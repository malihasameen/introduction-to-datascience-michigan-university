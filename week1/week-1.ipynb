{
 "cells": [
  {
   "cell_type": "markdown",
   "metadata": {},
   "source": [
    "# WEEK 1"
   ]
  },
  {
   "cell_type": "markdown",
   "metadata": {},
   "source": [
    "## 1. Python Function:"
   ]
  },
  {
   "cell_type": "markdown",
   "metadata": {},
   "source": [
    "`add_numbers` is a function that takes two numbers and adds them together."
   ]
  },
  {
   "cell_type": "code",
   "execution_count": 1,
   "metadata": {},
   "outputs": [
    {
     "data": {
      "text/plain": [
       "3"
      ]
     },
     "execution_count": 1,
     "metadata": {},
     "output_type": "execute_result"
    }
   ],
   "source": [
    "def add_numbers(x, y):\n",
    "    return x + y\n",
    "\n",
    "add_numbers(1, 2)"
   ]
  },
  {
   "cell_type": "markdown",
   "metadata": {},
   "source": [
    "optional parameters can be set to default values to avoid *Method Overloading*. `add_numbers` has optional 3rd parameter"
   ]
  },
  {
   "cell_type": "code",
   "execution_count": 2,
   "metadata": {},
   "outputs": [
    {
     "name": "stdout",
     "output_type": "stream",
     "text": [
      "3\n",
      "6\n"
     ]
    }
   ],
   "source": [
    "def add_numbers(x, y, z=None):\n",
    "    if z is None:\n",
    "        return x + y\n",
    "    else:\n",
    "        return x + y + z\n",
    "\n",
    "print(add_numbers(1, 2))\n",
    "print(add_numbers(1, 2, 3))"
   ]
  },
  {
   "cell_type": "markdown",
   "metadata": {},
   "source": [
    "`add_numbers` updated to take an optional flag parameter."
   ]
  },
  {
   "cell_type": "code",
   "execution_count": 3,
   "metadata": {},
   "outputs": [
    {
     "name": "stdout",
     "output_type": "stream",
     "text": [
      "Flag is True\n",
      "3\n"
     ]
    }
   ],
   "source": [
    "def add_numbers(x, y, z=None, flag=True):\n",
    "    if flag is True:\n",
    "        print(\"Flag is True\")\n",
    "    if z is None:\n",
    "        return x + y\n",
    "    else:\n",
    "        return x + y + z\n",
    "    \n",
    "print(add_numbers(1, 2, flag=True))"
   ]
  },
  {
   "cell_type": "markdown",
   "metadata": {},
   "source": [
    "Function `add_numbers` assigned to variable a."
   ]
  },
  {
   "cell_type": "code",
   "execution_count": 4,
   "metadata": {},
   "outputs": [
    {
     "data": {
      "text/plain": [
       "3"
      ]
     },
     "execution_count": 4,
     "metadata": {},
     "output_type": "execute_result"
    }
   ],
   "source": [
    "def add_numbers(x, y):\n",
    "    return x + y\n",
    "\n",
    "a = add_numbers\n",
    "a(1, 2)"
   ]
  },
  {
   "cell_type": "markdown",
   "metadata": {},
   "source": [
    "## 2. Types and Sequences:"
   ]
  },
  {
   "cell_type": "markdown",
   "metadata": {},
   "source": [
    "Python is a dynamic type language but that doesn't mean there aren't any types. Python has a `type()` function which tells the type pf input parameter.  "
   ]
  },
  {
   "cell_type": "code",
   "execution_count": 5,
   "metadata": {},
   "outputs": [
    {
     "data": {
      "text/plain": [
       "str"
      ]
     },
     "execution_count": 5,
     "metadata": {},
     "output_type": "execute_result"
    }
   ],
   "source": [
    "# string\n",
    "type('A String')"
   ]
  },
  {
   "cell_type": "code",
   "execution_count": 6,
   "metadata": {},
   "outputs": [
    {
     "data": {
      "text/plain": [
       "NoneType"
      ]
     },
     "execution_count": 6,
     "metadata": {},
     "output_type": "execute_result"
    }
   ],
   "source": [
    "# none type\n",
    "type(None)"
   ]
  },
  {
   "cell_type": "code",
   "execution_count": 7,
   "metadata": {},
   "outputs": [
    {
     "data": {
      "text/plain": [
       "int"
      ]
     },
     "execution_count": 7,
     "metadata": {},
     "output_type": "execute_result"
    }
   ],
   "source": [
    "# integers\n",
    "type(1)"
   ]
  },
  {
   "cell_type": "code",
   "execution_count": 8,
   "metadata": {},
   "outputs": [
    {
     "data": {
      "text/plain": [
       "float"
      ]
     },
     "execution_count": 8,
     "metadata": {},
     "output_type": "execute_result"
    }
   ],
   "source": [
    "# floating point numbers\n",
    "type(1.0)"
   ]
  },
  {
   "cell_type": "code",
   "execution_count": 9,
   "metadata": {},
   "outputs": [
    {
     "data": {
      "text/plain": [
       "function"
      ]
     },
     "execution_count": 9,
     "metadata": {},
     "output_type": "execute_result"
    }
   ],
   "source": [
    "# functions\n",
    "type(add_numbers)"
   ]
  },
  {
   "cell_type": "markdown",
   "metadata": {},
   "source": [
    "### Three native types of sequence or collections:\n",
    " - Tuples ()\n",
    " - Lists []\n",
    " - Dictionaries {}"
   ]
  },
  {
   "cell_type": "markdown",
   "metadata": {},
   "source": [
    "Tuple is immutable(cannot be altered) list of variables."
   ]
  },
  {
   "cell_type": "code",
   "execution_count": 10,
   "metadata": {},
   "outputs": [
    {
     "data": {
      "text/plain": [
       "tuple"
      ]
     },
     "execution_count": 10,
     "metadata": {},
     "output_type": "execute_result"
    }
   ],
   "source": [
    "x = (1, 'a', 2, 'b')\n",
    "type(x)"
   ]
  },
  {
   "cell_type": "markdown",
   "metadata": {},
   "source": [
    "List is mutable data structure."
   ]
  },
  {
   "cell_type": "code",
   "execution_count": 11,
   "metadata": {},
   "outputs": [
    {
     "data": {
      "text/plain": [
       "list"
      ]
     },
     "execution_count": 11,
     "metadata": {},
     "output_type": "execute_result"
    }
   ],
   "source": [
    "x = [1, 'a', 2, 'b']\n",
    "type(x)"
   ]
  },
  {
   "cell_type": "markdown",
   "metadata": {},
   "source": [
    "Use `append` to append an object to a list"
   ]
  },
  {
   "cell_type": "code",
   "execution_count": 12,
   "metadata": {},
   "outputs": [
    {
     "data": {
      "text/plain": [
       "[1, 'a', 2, 'b', 'y']"
      ]
     },
     "execution_count": 12,
     "metadata": {},
     "output_type": "execute_result"
    }
   ],
   "source": [
    "x.append('y')\n",
    "x"
   ]
  },
  {
   "cell_type": "markdown",
   "metadata": {},
   "source": [
    "Loop to iterate through each item in list or tuple."
   ]
  },
  {
   "cell_type": "code",
   "execution_count": 13,
   "metadata": {},
   "outputs": [
    {
     "name": "stdout",
     "output_type": "stream",
     "text": [
      "1\n",
      "a\n",
      "2\n",
      "b\n",
      "y\n"
     ]
    }
   ],
   "source": [
    "for item in x:\n",
    "    print(item)"
   ]
  },
  {
   "cell_type": "markdown",
   "metadata": {},
   "source": [
    "Or use indexing operator."
   ]
  },
  {
   "cell_type": "code",
   "execution_count": 14,
   "metadata": {},
   "outputs": [
    {
     "name": "stdout",
     "output_type": "stream",
     "text": [
      "1\n",
      "a\n",
      "2\n",
      "b\n",
      "y\n"
     ]
    }
   ],
   "source": [
    "i = 0\n",
    "while i != len(x):\n",
    "    print(x[i])\n",
    "    i = i + 1"
   ]
  },
  {
   "cell_type": "markdown",
   "metadata": {},
   "source": [
    "Use `+` to concatenate lists"
   ]
  },
  {
   "cell_type": "code",
   "execution_count": 15,
   "metadata": {},
   "outputs": [
    {
     "data": {
      "text/plain": [
       "[1, 2, 3, 4]"
      ]
     },
     "execution_count": 15,
     "metadata": {},
     "output_type": "execute_result"
    }
   ],
   "source": [
    "[1, 2] + [3, 4]"
   ]
  },
  {
   "cell_type": "markdown",
   "metadata": {},
   "source": [
    "Use `*` to repeat the list items."
   ]
  },
  {
   "cell_type": "code",
   "execution_count": 16,
   "metadata": {},
   "outputs": [
    {
     "data": {
      "text/plain": [
       "[1, 2, 1, 2, 1, 2]"
      ]
     },
     "execution_count": 16,
     "metadata": {},
     "output_type": "execute_result"
    }
   ],
   "source": [
    "[1, 2] * 3"
   ]
  },
  {
   "cell_type": "markdown",
   "metadata": {},
   "source": [
    "Use `in` to check items inside the list"
   ]
  },
  {
   "cell_type": "code",
   "execution_count": 17,
   "metadata": {},
   "outputs": [
    {
     "data": {
      "text/plain": [
       "True"
      ]
     },
     "execution_count": 17,
     "metadata": {},
     "output_type": "execute_result"
    }
   ],
   "source": [
    "1 in [1, 2, 3, 4]"
   ]
  },
  {
   "cell_type": "markdown",
   "metadata": {},
   "source": [
    "A powerful concept in Python called **Slicing Structure**."
   ]
  },
  {
   "cell_type": "code",
   "execution_count": 18,
   "metadata": {},
   "outputs": [
    {
     "name": "stdout",
     "output_type": "stream",
     "text": [
      "T\n"
     ]
    }
   ],
   "source": [
    "x = \"This is a string\"\n",
    "print(x[0]) # first character i.e. T"
   ]
  },
  {
   "cell_type": "code",
   "execution_count": 19,
   "metadata": {},
   "outputs": [
    {
     "name": "stdout",
     "output_type": "stream",
     "text": [
      "T\n"
     ]
    }
   ],
   "source": [
    "print(x[0:1]) # first character but end setup explicitly i.e. T"
   ]
  },
  {
   "cell_type": "code",
   "execution_count": 20,
   "metadata": {},
   "outputs": [
    {
     "name": "stdout",
     "output_type": "stream",
     "text": [
      "Th\n"
     ]
    }
   ],
   "source": [
    "print(x[0:2]) # first two characters i.e. Th"
   ]
  },
  {
   "cell_type": "code",
   "execution_count": 21,
   "metadata": {},
   "outputs": [
    {
     "name": "stdout",
     "output_type": "stream",
     "text": [
      "g\n"
     ]
    }
   ],
   "source": [
    "print(x[-1]) # last character i.e. g"
   ]
  },
  {
   "cell_type": "code",
   "execution_count": 22,
   "metadata": {},
   "outputs": [
    {
     "name": "stdout",
     "output_type": "stream",
     "text": [
      "ri\n"
     ]
    }
   ],
   "source": [
    "print(x[-4:-2]) # slice from 4th last character to before 2nd last character i.e. ri"
   ]
  },
  {
   "cell_type": "code",
   "execution_count": 23,
   "metadata": {},
   "outputs": [
    {
     "name": "stdout",
     "output_type": "stream",
     "text": [
      "Thi\n"
     ]
    }
   ],
   "source": [
    "print(x[:3]) # slice from beginning until third character i.e. Thi"
   ]
  },
  {
   "cell_type": "code",
   "execution_count": 24,
   "metadata": {},
   "outputs": [
    {
     "name": "stdout",
     "output_type": "stream",
     "text": [
      "s is a string\n"
     ]
    }
   ],
   "source": [
    "print(x[3:]) # slice from 4th character till last character i.e. s is a string"
   ]
  },
  {
   "cell_type": "markdown",
   "metadata": {},
   "source": [
    "As string is a list of characters so list operations such as concatenation, replication and checking items inside a list is same for strings."
   ]
  },
  {
   "cell_type": "code",
   "execution_count": 25,
   "metadata": {},
   "outputs": [
    {
     "name": "stdout",
     "output_type": "stream",
     "text": [
      "Christopher Brook\n",
      "ChristopherChristopherChristopher\n",
      "True\n"
     ]
    }
   ],
   "source": [
    "firstname = \"Christopher\"\n",
    "lastname = \"Brook\"\n",
    "\n",
    "print(firstname + ' ' + lastname) # concatenation\n",
    "print(firstname * 3) # replication\n",
    "print('Chris' in firstname) # checking inside a string"
   ]
  },
  {
   "cell_type": "markdown",
   "metadata": {},
   "source": [
    "`split` returns a list of all the words in a string, or a list split on a specific character."
   ]
  },
  {
   "cell_type": "code",
   "execution_count": 26,
   "metadata": {},
   "outputs": [
    {
     "name": "stdout",
     "output_type": "stream",
     "text": [
      "Christopher\n",
      "Brooks\n"
     ]
    }
   ],
   "source": [
    "firstname = 'Christopher Arthur Hansen Brooks'.split(' ')[0] # [0] selects the first element of the list\n",
    "lastname = 'Christopher Arthur Hansen Brooks'.split(' ')[-1] # [-1] selects the last element of the list\n",
    "print(firstname)\n",
    "print(lastname)"
   ]
  },
  {
   "cell_type": "markdown",
   "metadata": {},
   "source": [
    "Numbers should be explicitly converted to string when concatenated with strings."
   ]
  },
  {
   "cell_type": "code",
   "execution_count": 27,
   "metadata": {},
   "outputs": [
    {
     "data": {
      "text/plain": [
       "'Chris2'"
      ]
     },
     "execution_count": 27,
     "metadata": {},
     "output_type": "execute_result"
    }
   ],
   "source": [
    "'Chris' + str(2)"
   ]
  },
  {
   "cell_type": "markdown",
   "metadata": {},
   "source": [
    "Dictionaries are a collection of key,value pairs i.e. every value is associated with a key and a key is used to get the value. Dictionaries in other languages are known as *map*."
   ]
  },
  {
   "cell_type": "code",
   "execution_count": 28,
   "metadata": {},
   "outputs": [
    {
     "data": {
      "text/plain": [
       "'brooksch@umich.edu'"
      ]
     },
     "execution_count": 28,
     "metadata": {},
     "output_type": "execute_result"
    }
   ],
   "source": [
    "x = {'Christopher Brooks': 'brooksch@umich.edu', 'Bill Gates': 'billg@microsoft.com'}\n",
    "x['Christopher Brooks'] # Retrieve a value by using its key"
   ]
  },
  {
   "cell_type": "code",
   "execution_count": 29,
   "metadata": {},
   "outputs": [],
   "source": [
    "x['Kevyn Collins-Thompson'] = None\n",
    "x['Kevyn Collins-Thompson']"
   ]
  },
  {
   "cell_type": "markdown",
   "metadata": {},
   "source": [
    "Iterate over the keys:"
   ]
  },
  {
   "cell_type": "code",
   "execution_count": 30,
   "metadata": {},
   "outputs": [
    {
     "name": "stdout",
     "output_type": "stream",
     "text": [
      "brooksch@umich.edu\n",
      "billg@microsoft.com\n",
      "None\n"
     ]
    }
   ],
   "source": [
    "for name in x:\n",
    "    print(x[name])"
   ]
  },
  {
   "cell_type": "markdown",
   "metadata": {},
   "source": [
    "Iterate over the values:"
   ]
  },
  {
   "cell_type": "code",
   "execution_count": 31,
   "metadata": {},
   "outputs": [
    {
     "name": "stdout",
     "output_type": "stream",
     "text": [
      "brooksch@umich.edu\n",
      "billg@microsoft.com\n",
      "None\n"
     ]
    }
   ],
   "source": [
    "for email in x.values():\n",
    "    print(email)"
   ]
  },
  {
   "cell_type": "markdown",
   "metadata": {},
   "source": [
    "Iterate over both the keys and values in items:"
   ]
  },
  {
   "cell_type": "code",
   "execution_count": 32,
   "metadata": {},
   "outputs": [
    {
     "name": "stdout",
     "output_type": "stream",
     "text": [
      "Christopher Brooks\n",
      "brooksch@umich.edu\n",
      "Bill Gates\n",
      "billg@microsoft.com\n",
      "Kevyn Collins-Thompson\n",
      "None\n"
     ]
    }
   ],
   "source": [
    "for name, email in x.items():\n",
    "    print(name)\n",
    "    print(email)"
   ]
  },
  {
   "cell_type": "markdown",
   "metadata": {},
   "source": [
    "Unpacking a sequence into multiple variables in single assignment"
   ]
  },
  {
   "cell_type": "code",
   "execution_count": 33,
   "metadata": {},
   "outputs": [],
   "source": [
    "x = ('Christopher', 'Brooks', 'brooksch@umich.edu')\n",
    "fname, lname, email = x"
   ]
  },
  {
   "cell_type": "code",
   "execution_count": 34,
   "metadata": {},
   "outputs": [
    {
     "data": {
      "text/plain": [
       "'Christopher'"
      ]
     },
     "execution_count": 34,
     "metadata": {},
     "output_type": "execute_result"
    }
   ],
   "source": [
    "fname"
   ]
  },
  {
   "cell_type": "code",
   "execution_count": 35,
   "metadata": {},
   "outputs": [
    {
     "data": {
      "text/plain": [
       "'Brooks'"
      ]
     },
     "execution_count": 35,
     "metadata": {},
     "output_type": "execute_result"
    }
   ],
   "source": [
    "lname"
   ]
  },
  {
   "cell_type": "code",
   "execution_count": 36,
   "metadata": {},
   "outputs": [
    {
     "data": {
      "text/plain": [
       "'brooksch@umich.edu'"
      ]
     },
     "execution_count": 36,
     "metadata": {},
     "output_type": "execute_result"
    }
   ],
   "source": [
    "email"
   ]
  },
  {
   "cell_type": "markdown",
   "metadata": {},
   "source": [
    "## 3. More on Strings:"
   ]
  },
  {
   "cell_type": "markdown",
   "metadata": {},
   "source": [
    "Python uses placeholders inside the string to evaluate the variables and manipulate into string without using str()."
   ]
  },
  {
   "cell_type": "code",
   "execution_count": 37,
   "metadata": {},
   "outputs": [
    {
     "name": "stdout",
     "output_type": "stream",
     "text": [
      "Chris bought 4 item(s) at a price of 3.24 each for a total of 12.96.\n"
     ]
    }
   ],
   "source": [
    "sales_record = {'price': 3.24,\n",
    "               'num_items': 4,\n",
    "               'person': 'Chris'}\n",
    "sales_statement = '{} bought {} item(s) at a price of {} each for a total of {}.'\n",
    "\n",
    "print(sales_statement.format(sales_record['person'],\n",
    "     sales_record['num_items'],\n",
    "     sales_record['price'],\n",
    "     sales_record['num_items'] * sales_record['price']))"
   ]
  },
  {
   "cell_type": "markdown",
   "metadata": {},
   "source": [
    "## 4. Reading and Writing CSV Files:"
   ]
  },
  {
   "cell_type": "markdown",
   "metadata": {},
   "source": [
    "<br>\n",
    "Let's import our datafile mpg.csv, which contains fuel economy data for 234 cars.\n",
    "\n",
    "* mpg : miles per gallon\n",
    "* class : car classification\n",
    "* cty : city mpg\n",
    "* cyl : # of cylinders\n",
    "* displ : engine displacement in liters\n",
    "* drv : f = front-wheel drive, r = rear wheel drive, 4 = 4wd\n",
    "* fl : fuel (e = ethanol E85, d = diesel, r = regular, p = premium, c = CNG)\n",
    "* hwy : highway mpg\n",
    "* manufacturer : automobile manufacturer\n",
    "* model : model of car\n",
    "* trans : type of transmissionm\n",
    "* year : model year"
   ]
  },
  {
   "cell_type": "code",
   "execution_count": 38,
   "metadata": {},
   "outputs": [
    {
     "data": {
      "text/plain": [
       "[OrderedDict([('', '1'),\n",
       "              ('manufacturer', 'audi'),\n",
       "              ('model', 'a4'),\n",
       "              ('displ', '1.8'),\n",
       "              ('year', '1999'),\n",
       "              ('cyl', '4'),\n",
       "              ('trans', 'auto(l5)'),\n",
       "              ('drv', 'f'),\n",
       "              ('cty', '18'),\n",
       "              ('hwy', '29'),\n",
       "              ('fl', 'p'),\n",
       "              ('class', 'compact')]),\n",
       " OrderedDict([('', '2'),\n",
       "              ('manufacturer', 'audi'),\n",
       "              ('model', 'a4'),\n",
       "              ('displ', '1.8'),\n",
       "              ('year', '1999'),\n",
       "              ('cyl', '4'),\n",
       "              ('trans', 'manual(m5)'),\n",
       "              ('drv', 'f'),\n",
       "              ('cty', '21'),\n",
       "              ('hwy', '29'),\n",
       "              ('fl', 'p'),\n",
       "              ('class', 'compact')]),\n",
       " OrderedDict([('', '3'),\n",
       "              ('manufacturer', 'audi'),\n",
       "              ('model', 'a4'),\n",
       "              ('displ', '2'),\n",
       "              ('year', '2008'),\n",
       "              ('cyl', '4'),\n",
       "              ('trans', 'manual(m6)'),\n",
       "              ('drv', 'f'),\n",
       "              ('cty', '20'),\n",
       "              ('hwy', '31'),\n",
       "              ('fl', 'p'),\n",
       "              ('class', 'compact')]),\n",
       " OrderedDict([('', '4'),\n",
       "              ('manufacturer', 'audi'),\n",
       "              ('model', 'a4'),\n",
       "              ('displ', '2'),\n",
       "              ('year', '2008'),\n",
       "              ('cyl', '4'),\n",
       "              ('trans', 'auto(av)'),\n",
       "              ('drv', 'f'),\n",
       "              ('cty', '21'),\n",
       "              ('hwy', '30'),\n",
       "              ('fl', 'p'),\n",
       "              ('class', 'compact')]),\n",
       " OrderedDict([('', '5'),\n",
       "              ('manufacturer', 'audi'),\n",
       "              ('model', 'a4'),\n",
       "              ('displ', '2.8'),\n",
       "              ('year', '1999'),\n",
       "              ('cyl', '6'),\n",
       "              ('trans', 'auto(l5)'),\n",
       "              ('drv', 'f'),\n",
       "              ('cty', '16'),\n",
       "              ('hwy', '26'),\n",
       "              ('fl', 'p'),\n",
       "              ('class', 'compact')]),\n",
       " OrderedDict([('', '6'),\n",
       "              ('manufacturer', 'audi'),\n",
       "              ('model', 'a4'),\n",
       "              ('displ', '2.8'),\n",
       "              ('year', '1999'),\n",
       "              ('cyl', '6'),\n",
       "              ('trans', 'manual(m5)'),\n",
       "              ('drv', 'f'),\n",
       "              ('cty', '18'),\n",
       "              ('hwy', '26'),\n",
       "              ('fl', 'p'),\n",
       "              ('class', 'compact')]),\n",
       " OrderedDict([('', '7'),\n",
       "              ('manufacturer', 'audi'),\n",
       "              ('model', 'a4'),\n",
       "              ('displ', '3.1'),\n",
       "              ('year', '2008'),\n",
       "              ('cyl', '6'),\n",
       "              ('trans', 'auto(av)'),\n",
       "              ('drv', 'f'),\n",
       "              ('cty', '18'),\n",
       "              ('hwy', '27'),\n",
       "              ('fl', 'p'),\n",
       "              ('class', 'compact')]),\n",
       " OrderedDict([('', '8'),\n",
       "              ('manufacturer', 'audi'),\n",
       "              ('model', 'a4 quattro'),\n",
       "              ('displ', '1.8'),\n",
       "              ('year', '1999'),\n",
       "              ('cyl', '4'),\n",
       "              ('trans', 'manual(m5)'),\n",
       "              ('drv', '4'),\n",
       "              ('cty', '18'),\n",
       "              ('hwy', '26'),\n",
       "              ('fl', 'p'),\n",
       "              ('class', 'compact')]),\n",
       " OrderedDict([('', '9'),\n",
       "              ('manufacturer', 'audi'),\n",
       "              ('model', 'a4 quattro'),\n",
       "              ('displ', '1.8'),\n",
       "              ('year', '1999'),\n",
       "              ('cyl', '4'),\n",
       "              ('trans', 'auto(l5)'),\n",
       "              ('drv', '4'),\n",
       "              ('cty', '16'),\n",
       "              ('hwy', '25'),\n",
       "              ('fl', 'p'),\n",
       "              ('class', 'compact')]),\n",
       " OrderedDict([('', '10'),\n",
       "              ('manufacturer', 'audi'),\n",
       "              ('model', 'a4 quattro'),\n",
       "              ('displ', '2'),\n",
       "              ('year', '2008'),\n",
       "              ('cyl', '4'),\n",
       "              ('trans', 'manual(m6)'),\n",
       "              ('drv', '4'),\n",
       "              ('cty', '20'),\n",
       "              ('hwy', '28'),\n",
       "              ('fl', 'p'),\n",
       "              ('class', 'compact')]),\n",
       " OrderedDict([('', '11'),\n",
       "              ('manufacturer', 'audi'),\n",
       "              ('model', 'a4 quattro'),\n",
       "              ('displ', '2'),\n",
       "              ('year', '2008'),\n",
       "              ('cyl', '4'),\n",
       "              ('trans', 'auto(s6)'),\n",
       "              ('drv', '4'),\n",
       "              ('cty', '19'),\n",
       "              ('hwy', '27'),\n",
       "              ('fl', 'p'),\n",
       "              ('class', 'compact')]),\n",
       " OrderedDict([('', '12'),\n",
       "              ('manufacturer', 'audi'),\n",
       "              ('model', 'a4 quattro'),\n",
       "              ('displ', '2.8'),\n",
       "              ('year', '1999'),\n",
       "              ('cyl', '6'),\n",
       "              ('trans', 'auto(l5)'),\n",
       "              ('drv', '4'),\n",
       "              ('cty', '15'),\n",
       "              ('hwy', '25'),\n",
       "              ('fl', 'p'),\n",
       "              ('class', 'compact')]),\n",
       " OrderedDict([('', '13'),\n",
       "              ('manufacturer', 'audi'),\n",
       "              ('model', 'a4 quattro'),\n",
       "              ('displ', '2.8'),\n",
       "              ('year', '1999'),\n",
       "              ('cyl', '6'),\n",
       "              ('trans', 'manual(m5)'),\n",
       "              ('drv', '4'),\n",
       "              ('cty', '17'),\n",
       "              ('hwy', '25'),\n",
       "              ('fl', 'p'),\n",
       "              ('class', 'compact')]),\n",
       " OrderedDict([('', '14'),\n",
       "              ('manufacturer', 'audi'),\n",
       "              ('model', 'a4 quattro'),\n",
       "              ('displ', '3.1'),\n",
       "              ('year', '2008'),\n",
       "              ('cyl', '6'),\n",
       "              ('trans', 'auto(s6)'),\n",
       "              ('drv', '4'),\n",
       "              ('cty', '17'),\n",
       "              ('hwy', '25'),\n",
       "              ('fl', 'p'),\n",
       "              ('class', 'compact')]),\n",
       " OrderedDict([('', '15'),\n",
       "              ('manufacturer', 'audi'),\n",
       "              ('model', 'a4 quattro'),\n",
       "              ('displ', '3.1'),\n",
       "              ('year', '2008'),\n",
       "              ('cyl', '6'),\n",
       "              ('trans', 'manual(m6)'),\n",
       "              ('drv', '4'),\n",
       "              ('cty', '15'),\n",
       "              ('hwy', '25'),\n",
       "              ('fl', 'p'),\n",
       "              ('class', 'compact')]),\n",
       " OrderedDict([('', '16'),\n",
       "              ('manufacturer', 'audi'),\n",
       "              ('model', 'a6 quattro'),\n",
       "              ('displ', '2.8'),\n",
       "              ('year', '1999'),\n",
       "              ('cyl', '6'),\n",
       "              ('trans', 'auto(l5)'),\n",
       "              ('drv', '4'),\n",
       "              ('cty', '15'),\n",
       "              ('hwy', '24'),\n",
       "              ('fl', 'p'),\n",
       "              ('class', 'midsize')]),\n",
       " OrderedDict([('', '17'),\n",
       "              ('manufacturer', 'audi'),\n",
       "              ('model', 'a6 quattro'),\n",
       "              ('displ', '3.1'),\n",
       "              ('year', '2008'),\n",
       "              ('cyl', '6'),\n",
       "              ('trans', 'auto(s6)'),\n",
       "              ('drv', '4'),\n",
       "              ('cty', '17'),\n",
       "              ('hwy', '25'),\n",
       "              ('fl', 'p'),\n",
       "              ('class', 'midsize')]),\n",
       " OrderedDict([('', '18'),\n",
       "              ('manufacturer', 'audi'),\n",
       "              ('model', 'a6 quattro'),\n",
       "              ('displ', '4.2'),\n",
       "              ('year', '2008'),\n",
       "              ('cyl', '8'),\n",
       "              ('trans', 'auto(s6)'),\n",
       "              ('drv', '4'),\n",
       "              ('cty', '16'),\n",
       "              ('hwy', '23'),\n",
       "              ('fl', 'p'),\n",
       "              ('class', 'midsize')]),\n",
       " OrderedDict([('', '19'),\n",
       "              ('manufacturer', 'chevrolet'),\n",
       "              ('model', 'c1500 suburban 2wd'),\n",
       "              ('displ', '5.3'),\n",
       "              ('year', '2008'),\n",
       "              ('cyl', '8'),\n",
       "              ('trans', 'auto(l4)'),\n",
       "              ('drv', 'r'),\n",
       "              ('cty', '14'),\n",
       "              ('hwy', '20'),\n",
       "              ('fl', 'r'),\n",
       "              ('class', 'suv')]),\n",
       " OrderedDict([('', '20'),\n",
       "              ('manufacturer', 'chevrolet'),\n",
       "              ('model', 'c1500 suburban 2wd'),\n",
       "              ('displ', '5.3'),\n",
       "              ('year', '2008'),\n",
       "              ('cyl', '8'),\n",
       "              ('trans', 'auto(l4)'),\n",
       "              ('drv', 'r'),\n",
       "              ('cty', '11'),\n",
       "              ('hwy', '15'),\n",
       "              ('fl', 'e'),\n",
       "              ('class', 'suv')]),\n",
       " OrderedDict([('', '21'),\n",
       "              ('manufacturer', 'chevrolet'),\n",
       "              ('model', 'c1500 suburban 2wd'),\n",
       "              ('displ', '5.3'),\n",
       "              ('year', '2008'),\n",
       "              ('cyl', '8'),\n",
       "              ('trans', 'auto(l4)'),\n",
       "              ('drv', 'r'),\n",
       "              ('cty', '14'),\n",
       "              ('hwy', '20'),\n",
       "              ('fl', 'r'),\n",
       "              ('class', 'suv')]),\n",
       " OrderedDict([('', '22'),\n",
       "              ('manufacturer', 'chevrolet'),\n",
       "              ('model', 'c1500 suburban 2wd'),\n",
       "              ('displ', '5.7'),\n",
       "              ('year', '1999'),\n",
       "              ('cyl', '8'),\n",
       "              ('trans', 'auto(l4)'),\n",
       "              ('drv', 'r'),\n",
       "              ('cty', '13'),\n",
       "              ('hwy', '17'),\n",
       "              ('fl', 'r'),\n",
       "              ('class', 'suv')]),\n",
       " OrderedDict([('', '23'),\n",
       "              ('manufacturer', 'chevrolet'),\n",
       "              ('model', 'c1500 suburban 2wd'),\n",
       "              ('displ', '6'),\n",
       "              ('year', '2008'),\n",
       "              ('cyl', '8'),\n",
       "              ('trans', 'auto(l4)'),\n",
       "              ('drv', 'r'),\n",
       "              ('cty', '12'),\n",
       "              ('hwy', '17'),\n",
       "              ('fl', 'r'),\n",
       "              ('class', 'suv')]),\n",
       " OrderedDict([('', '24'),\n",
       "              ('manufacturer', 'chevrolet'),\n",
       "              ('model', 'corvette'),\n",
       "              ('displ', '5.7'),\n",
       "              ('year', '1999'),\n",
       "              ('cyl', '8'),\n",
       "              ('trans', 'manual(m6)'),\n",
       "              ('drv', 'r'),\n",
       "              ('cty', '16'),\n",
       "              ('hwy', '26'),\n",
       "              ('fl', 'p'),\n",
       "              ('class', '2seater')]),\n",
       " OrderedDict([('', '25'),\n",
       "              ('manufacturer', 'chevrolet'),\n",
       "              ('model', 'corvette'),\n",
       "              ('displ', '5.7'),\n",
       "              ('year', '1999'),\n",
       "              ('cyl', '8'),\n",
       "              ('trans', 'auto(l4)'),\n",
       "              ('drv', 'r'),\n",
       "              ('cty', '15'),\n",
       "              ('hwy', '23'),\n",
       "              ('fl', 'p'),\n",
       "              ('class', '2seater')]),\n",
       " OrderedDict([('', '26'),\n",
       "              ('manufacturer', 'chevrolet'),\n",
       "              ('model', 'corvette'),\n",
       "              ('displ', '6.2'),\n",
       "              ('year', '2008'),\n",
       "              ('cyl', '8'),\n",
       "              ('trans', 'manual(m6)'),\n",
       "              ('drv', 'r'),\n",
       "              ('cty', '16'),\n",
       "              ('hwy', '26'),\n",
       "              ('fl', 'p'),\n",
       "              ('class', '2seater')]),\n",
       " OrderedDict([('', '27'),\n",
       "              ('manufacturer', 'chevrolet'),\n",
       "              ('model', 'corvette'),\n",
       "              ('displ', '6.2'),\n",
       "              ('year', '2008'),\n",
       "              ('cyl', '8'),\n",
       "              ('trans', 'auto(s6)'),\n",
       "              ('drv', 'r'),\n",
       "              ('cty', '15'),\n",
       "              ('hwy', '25'),\n",
       "              ('fl', 'p'),\n",
       "              ('class', '2seater')]),\n",
       " OrderedDict([('', '28'),\n",
       "              ('manufacturer', 'chevrolet'),\n",
       "              ('model', 'corvette'),\n",
       "              ('displ', '7'),\n",
       "              ('year', '2008'),\n",
       "              ('cyl', '8'),\n",
       "              ('trans', 'manual(m6)'),\n",
       "              ('drv', 'r'),\n",
       "              ('cty', '15'),\n",
       "              ('hwy', '24'),\n",
       "              ('fl', 'p'),\n",
       "              ('class', '2seater')]),\n",
       " OrderedDict([('', '29'),\n",
       "              ('manufacturer', 'chevrolet'),\n",
       "              ('model', 'k1500 tahoe 4wd'),\n",
       "              ('displ', '5.3'),\n",
       "              ('year', '2008'),\n",
       "              ('cyl', '8'),\n",
       "              ('trans', 'auto(l4)'),\n",
       "              ('drv', '4'),\n",
       "              ('cty', '14'),\n",
       "              ('hwy', '19'),\n",
       "              ('fl', 'r'),\n",
       "              ('class', 'suv')]),\n",
       " OrderedDict([('', '30'),\n",
       "              ('manufacturer', 'chevrolet'),\n",
       "              ('model', 'k1500 tahoe 4wd'),\n",
       "              ('displ', '5.3'),\n",
       "              ('year', '2008'),\n",
       "              ('cyl', '8'),\n",
       "              ('trans', 'auto(l4)'),\n",
       "              ('drv', '4'),\n",
       "              ('cty', '11'),\n",
       "              ('hwy', '14'),\n",
       "              ('fl', 'e'),\n",
       "              ('class', 'suv')]),\n",
       " OrderedDict([('', '31'),\n",
       "              ('manufacturer', 'chevrolet'),\n",
       "              ('model', 'k1500 tahoe 4wd'),\n",
       "              ('displ', '5.7'),\n",
       "              ('year', '1999'),\n",
       "              ('cyl', '8'),\n",
       "              ('trans', 'auto(l4)'),\n",
       "              ('drv', '4'),\n",
       "              ('cty', '11'),\n",
       "              ('hwy', '15'),\n",
       "              ('fl', 'r'),\n",
       "              ('class', 'suv')]),\n",
       " OrderedDict([('', '32'),\n",
       "              ('manufacturer', 'chevrolet'),\n",
       "              ('model', 'k1500 tahoe 4wd'),\n",
       "              ('displ', '6.5'),\n",
       "              ('year', '1999'),\n",
       "              ('cyl', '8'),\n",
       "              ('trans', 'auto(l4)'),\n",
       "              ('drv', '4'),\n",
       "              ('cty', '14'),\n",
       "              ('hwy', '17'),\n",
       "              ('fl', 'd'),\n",
       "              ('class', 'suv')]),\n",
       " OrderedDict([('', '33'),\n",
       "              ('manufacturer', 'chevrolet'),\n",
       "              ('model', 'malibu'),\n",
       "              ('displ', '2.4'),\n",
       "              ('year', '1999'),\n",
       "              ('cyl', '4'),\n",
       "              ('trans', 'auto(l4)'),\n",
       "              ('drv', 'f'),\n",
       "              ('cty', '19'),\n",
       "              ('hwy', '27'),\n",
       "              ('fl', 'r'),\n",
       "              ('class', 'midsize')]),\n",
       " OrderedDict([('', '34'),\n",
       "              ('manufacturer', 'chevrolet'),\n",
       "              ('model', 'malibu'),\n",
       "              ('displ', '2.4'),\n",
       "              ('year', '2008'),\n",
       "              ('cyl', '4'),\n",
       "              ('trans', 'auto(l4)'),\n",
       "              ('drv', 'f'),\n",
       "              ('cty', '22'),\n",
       "              ('hwy', '30'),\n",
       "              ('fl', 'r'),\n",
       "              ('class', 'midsize')]),\n",
       " OrderedDict([('', '35'),\n",
       "              ('manufacturer', 'chevrolet'),\n",
       "              ('model', 'malibu'),\n",
       "              ('displ', '3.1'),\n",
       "              ('year', '1999'),\n",
       "              ('cyl', '6'),\n",
       "              ('trans', 'auto(l4)'),\n",
       "              ('drv', 'f'),\n",
       "              ('cty', '18'),\n",
       "              ('hwy', '26'),\n",
       "              ('fl', 'r'),\n",
       "              ('class', 'midsize')]),\n",
       " OrderedDict([('', '36'),\n",
       "              ('manufacturer', 'chevrolet'),\n",
       "              ('model', 'malibu'),\n",
       "              ('displ', '3.5'),\n",
       "              ('year', '2008'),\n",
       "              ('cyl', '6'),\n",
       "              ('trans', 'auto(l4)'),\n",
       "              ('drv', 'f'),\n",
       "              ('cty', '18'),\n",
       "              ('hwy', '29'),\n",
       "              ('fl', 'r'),\n",
       "              ('class', 'midsize')]),\n",
       " OrderedDict([('', '37'),\n",
       "              ('manufacturer', 'chevrolet'),\n",
       "              ('model', 'malibu'),\n",
       "              ('displ', '3.6'),\n",
       "              ('year', '2008'),\n",
       "              ('cyl', '6'),\n",
       "              ('trans', 'auto(s6)'),\n",
       "              ('drv', 'f'),\n",
       "              ('cty', '17'),\n",
       "              ('hwy', '26'),\n",
       "              ('fl', 'r'),\n",
       "              ('class', 'midsize')]),\n",
       " OrderedDict([('', '38'),\n",
       "              ('manufacturer', 'dodge'),\n",
       "              ('model', 'caravan 2wd'),\n",
       "              ('displ', '2.4'),\n",
       "              ('year', '1999'),\n",
       "              ('cyl', '4'),\n",
       "              ('trans', 'auto(l3)'),\n",
       "              ('drv', 'f'),\n",
       "              ('cty', '18'),\n",
       "              ('hwy', '24'),\n",
       "              ('fl', 'r'),\n",
       "              ('class', 'minivan')]),\n",
       " OrderedDict([('', '39'),\n",
       "              ('manufacturer', 'dodge'),\n",
       "              ('model', 'caravan 2wd'),\n",
       "              ('displ', '3'),\n",
       "              ('year', '1999'),\n",
       "              ('cyl', '6'),\n",
       "              ('trans', 'auto(l4)'),\n",
       "              ('drv', 'f'),\n",
       "              ('cty', '17'),\n",
       "              ('hwy', '24'),\n",
       "              ('fl', 'r'),\n",
       "              ('class', 'minivan')]),\n",
       " OrderedDict([('', '40'),\n",
       "              ('manufacturer', 'dodge'),\n",
       "              ('model', 'caravan 2wd'),\n",
       "              ('displ', '3.3'),\n",
       "              ('year', '1999'),\n",
       "              ('cyl', '6'),\n",
       "              ('trans', 'auto(l4)'),\n",
       "              ('drv', 'f'),\n",
       "              ('cty', '16'),\n",
       "              ('hwy', '22'),\n",
       "              ('fl', 'r'),\n",
       "              ('class', 'minivan')]),\n",
       " OrderedDict([('', '41'),\n",
       "              ('manufacturer', 'dodge'),\n",
       "              ('model', 'caravan 2wd'),\n",
       "              ('displ', '3.3'),\n",
       "              ('year', '1999'),\n",
       "              ('cyl', '6'),\n",
       "              ('trans', 'auto(l4)'),\n",
       "              ('drv', 'f'),\n",
       "              ('cty', '16'),\n",
       "              ('hwy', '22'),\n",
       "              ('fl', 'r'),\n",
       "              ('class', 'minivan')]),\n",
       " OrderedDict([('', '42'),\n",
       "              ('manufacturer', 'dodge'),\n",
       "              ('model', 'caravan 2wd'),\n",
       "              ('displ', '3.3'),\n",
       "              ('year', '2008'),\n",
       "              ('cyl', '6'),\n",
       "              ('trans', 'auto(l4)'),\n",
       "              ('drv', 'f'),\n",
       "              ('cty', '17'),\n",
       "              ('hwy', '24'),\n",
       "              ('fl', 'r'),\n",
       "              ('class', 'minivan')]),\n",
       " OrderedDict([('', '43'),\n",
       "              ('manufacturer', 'dodge'),\n",
       "              ('model', 'caravan 2wd'),\n",
       "              ('displ', '3.3'),\n",
       "              ('year', '2008'),\n",
       "              ('cyl', '6'),\n",
       "              ('trans', 'auto(l4)'),\n",
       "              ('drv', 'f'),\n",
       "              ('cty', '17'),\n",
       "              ('hwy', '24'),\n",
       "              ('fl', 'r'),\n",
       "              ('class', 'minivan')]),\n",
       " OrderedDict([('', '44'),\n",
       "              ('manufacturer', 'dodge'),\n",
       "              ('model', 'caravan 2wd'),\n",
       "              ('displ', '3.3'),\n",
       "              ('year', '2008'),\n",
       "              ('cyl', '6'),\n",
       "              ('trans', 'auto(l4)'),\n",
       "              ('drv', 'f'),\n",
       "              ('cty', '11'),\n",
       "              ('hwy', '17'),\n",
       "              ('fl', 'e'),\n",
       "              ('class', 'minivan')]),\n",
       " OrderedDict([('', '45'),\n",
       "              ('manufacturer', 'dodge'),\n",
       "              ('model', 'caravan 2wd'),\n",
       "              ('displ', '3.8'),\n",
       "              ('year', '1999'),\n",
       "              ('cyl', '6'),\n",
       "              ('trans', 'auto(l4)'),\n",
       "              ('drv', 'f'),\n",
       "              ('cty', '15'),\n",
       "              ('hwy', '22'),\n",
       "              ('fl', 'r'),\n",
       "              ('class', 'minivan')]),\n",
       " OrderedDict([('', '46'),\n",
       "              ('manufacturer', 'dodge'),\n",
       "              ('model', 'caravan 2wd'),\n",
       "              ('displ', '3.8'),\n",
       "              ('year', '1999'),\n",
       "              ('cyl', '6'),\n",
       "              ('trans', 'auto(l4)'),\n",
       "              ('drv', 'f'),\n",
       "              ('cty', '15'),\n",
       "              ('hwy', '21'),\n",
       "              ('fl', 'r'),\n",
       "              ('class', 'minivan')]),\n",
       " OrderedDict([('', '47'),\n",
       "              ('manufacturer', 'dodge'),\n",
       "              ('model', 'caravan 2wd'),\n",
       "              ('displ', '3.8'),\n",
       "              ('year', '2008'),\n",
       "              ('cyl', '6'),\n",
       "              ('trans', 'auto(l6)'),\n",
       "              ('drv', 'f'),\n",
       "              ('cty', '16'),\n",
       "              ('hwy', '23'),\n",
       "              ('fl', 'r'),\n",
       "              ('class', 'minivan')]),\n",
       " OrderedDict([('', '48'),\n",
       "              ('manufacturer', 'dodge'),\n",
       "              ('model', 'caravan 2wd'),\n",
       "              ('displ', '4'),\n",
       "              ('year', '2008'),\n",
       "              ('cyl', '6'),\n",
       "              ('trans', 'auto(l6)'),\n",
       "              ('drv', 'f'),\n",
       "              ('cty', '16'),\n",
       "              ('hwy', '23'),\n",
       "              ('fl', 'r'),\n",
       "              ('class', 'minivan')]),\n",
       " OrderedDict([('', '49'),\n",
       "              ('manufacturer', 'dodge'),\n",
       "              ('model', 'dakota pickup 4wd'),\n",
       "              ('displ', '3.7'),\n",
       "              ('year', '2008'),\n",
       "              ('cyl', '6'),\n",
       "              ('trans', 'manual(m6)'),\n",
       "              ('drv', '4'),\n",
       "              ('cty', '15'),\n",
       "              ('hwy', '19'),\n",
       "              ('fl', 'r'),\n",
       "              ('class', 'pickup')]),\n",
       " OrderedDict([('', '50'),\n",
       "              ('manufacturer', 'dodge'),\n",
       "              ('model', 'dakota pickup 4wd'),\n",
       "              ('displ', '3.7'),\n",
       "              ('year', '2008'),\n",
       "              ('cyl', '6'),\n",
       "              ('trans', 'auto(l4)'),\n",
       "              ('drv', '4'),\n",
       "              ('cty', '14'),\n",
       "              ('hwy', '18'),\n",
       "              ('fl', 'r'),\n",
       "              ('class', 'pickup')]),\n",
       " OrderedDict([('', '51'),\n",
       "              ('manufacturer', 'dodge'),\n",
       "              ('model', 'dakota pickup 4wd'),\n",
       "              ('displ', '3.9'),\n",
       "              ('year', '1999'),\n",
       "              ('cyl', '6'),\n",
       "              ('trans', 'auto(l4)'),\n",
       "              ('drv', '4'),\n",
       "              ('cty', '13'),\n",
       "              ('hwy', '17'),\n",
       "              ('fl', 'r'),\n",
       "              ('class', 'pickup')]),\n",
       " OrderedDict([('', '52'),\n",
       "              ('manufacturer', 'dodge'),\n",
       "              ('model', 'dakota pickup 4wd'),\n",
       "              ('displ', '3.9'),\n",
       "              ('year', '1999'),\n",
       "              ('cyl', '6'),\n",
       "              ('trans', 'manual(m5)'),\n",
       "              ('drv', '4'),\n",
       "              ('cty', '14'),\n",
       "              ('hwy', '17'),\n",
       "              ('fl', 'r'),\n",
       "              ('class', 'pickup')]),\n",
       " OrderedDict([('', '53'),\n",
       "              ('manufacturer', 'dodge'),\n",
       "              ('model', 'dakota pickup 4wd'),\n",
       "              ('displ', '4.7'),\n",
       "              ('year', '2008'),\n",
       "              ('cyl', '8'),\n",
       "              ('trans', 'auto(l5)'),\n",
       "              ('drv', '4'),\n",
       "              ('cty', '14'),\n",
       "              ('hwy', '19'),\n",
       "              ('fl', 'r'),\n",
       "              ('class', 'pickup')]),\n",
       " OrderedDict([('', '54'),\n",
       "              ('manufacturer', 'dodge'),\n",
       "              ('model', 'dakota pickup 4wd'),\n",
       "              ('displ', '4.7'),\n",
       "              ('year', '2008'),\n",
       "              ('cyl', '8'),\n",
       "              ('trans', 'auto(l5)'),\n",
       "              ('drv', '4'),\n",
       "              ('cty', '14'),\n",
       "              ('hwy', '19'),\n",
       "              ('fl', 'r'),\n",
       "              ('class', 'pickup')]),\n",
       " OrderedDict([('', '55'),\n",
       "              ('manufacturer', 'dodge'),\n",
       "              ('model', 'dakota pickup 4wd'),\n",
       "              ('displ', '4.7'),\n",
       "              ('year', '2008'),\n",
       "              ('cyl', '8'),\n",
       "              ('trans', 'auto(l5)'),\n",
       "              ('drv', '4'),\n",
       "              ('cty', '9'),\n",
       "              ('hwy', '12'),\n",
       "              ('fl', 'e'),\n",
       "              ('class', 'pickup')]),\n",
       " OrderedDict([('', '56'),\n",
       "              ('manufacturer', 'dodge'),\n",
       "              ('model', 'dakota pickup 4wd'),\n",
       "              ('displ', '5.2'),\n",
       "              ('year', '1999'),\n",
       "              ('cyl', '8'),\n",
       "              ('trans', 'manual(m5)'),\n",
       "              ('drv', '4'),\n",
       "              ('cty', '11'),\n",
       "              ('hwy', '17'),\n",
       "              ('fl', 'r'),\n",
       "              ('class', 'pickup')]),\n",
       " OrderedDict([('', '57'),\n",
       "              ('manufacturer', 'dodge'),\n",
       "              ('model', 'dakota pickup 4wd'),\n",
       "              ('displ', '5.2'),\n",
       "              ('year', '1999'),\n",
       "              ('cyl', '8'),\n",
       "              ('trans', 'auto(l4)'),\n",
       "              ('drv', '4'),\n",
       "              ('cty', '11'),\n",
       "              ('hwy', '15'),\n",
       "              ('fl', 'r'),\n",
       "              ('class', 'pickup')]),\n",
       " OrderedDict([('', '58'),\n",
       "              ('manufacturer', 'dodge'),\n",
       "              ('model', 'durango 4wd'),\n",
       "              ('displ', '3.9'),\n",
       "              ('year', '1999'),\n",
       "              ('cyl', '6'),\n",
       "              ('trans', 'auto(l4)'),\n",
       "              ('drv', '4'),\n",
       "              ('cty', '13'),\n",
       "              ('hwy', '17'),\n",
       "              ('fl', 'r'),\n",
       "              ('class', 'suv')]),\n",
       " OrderedDict([('', '59'),\n",
       "              ('manufacturer', 'dodge'),\n",
       "              ('model', 'durango 4wd'),\n",
       "              ('displ', '4.7'),\n",
       "              ('year', '2008'),\n",
       "              ('cyl', '8'),\n",
       "              ('trans', 'auto(l5)'),\n",
       "              ('drv', '4'),\n",
       "              ('cty', '13'),\n",
       "              ('hwy', '17'),\n",
       "              ('fl', 'r'),\n",
       "              ('class', 'suv')]),\n",
       " OrderedDict([('', '60'),\n",
       "              ('manufacturer', 'dodge'),\n",
       "              ('model', 'durango 4wd'),\n",
       "              ('displ', '4.7'),\n",
       "              ('year', '2008'),\n",
       "              ('cyl', '8'),\n",
       "              ('trans', 'auto(l5)'),\n",
       "              ('drv', '4'),\n",
       "              ('cty', '9'),\n",
       "              ('hwy', '12'),\n",
       "              ('fl', 'e'),\n",
       "              ('class', 'suv')]),\n",
       " OrderedDict([('', '61'),\n",
       "              ('manufacturer', 'dodge'),\n",
       "              ('model', 'durango 4wd'),\n",
       "              ('displ', '4.7'),\n",
       "              ('year', '2008'),\n",
       "              ('cyl', '8'),\n",
       "              ('trans', 'auto(l5)'),\n",
       "              ('drv', '4'),\n",
       "              ('cty', '13'),\n",
       "              ('hwy', '17'),\n",
       "              ('fl', 'r'),\n",
       "              ('class', 'suv')]),\n",
       " OrderedDict([('', '62'),\n",
       "              ('manufacturer', 'dodge'),\n",
       "              ('model', 'durango 4wd'),\n",
       "              ('displ', '5.2'),\n",
       "              ('year', '1999'),\n",
       "              ('cyl', '8'),\n",
       "              ('trans', 'auto(l4)'),\n",
       "              ('drv', '4'),\n",
       "              ('cty', '11'),\n",
       "              ('hwy', '16'),\n",
       "              ('fl', 'r'),\n",
       "              ('class', 'suv')]),\n",
       " OrderedDict([('', '63'),\n",
       "              ('manufacturer', 'dodge'),\n",
       "              ('model', 'durango 4wd'),\n",
       "              ('displ', '5.7'),\n",
       "              ('year', '2008'),\n",
       "              ('cyl', '8'),\n",
       "              ('trans', 'auto(l5)'),\n",
       "              ('drv', '4'),\n",
       "              ('cty', '13'),\n",
       "              ('hwy', '18'),\n",
       "              ('fl', 'r'),\n",
       "              ('class', 'suv')]),\n",
       " OrderedDict([('', '64'),\n",
       "              ('manufacturer', 'dodge'),\n",
       "              ('model', 'durango 4wd'),\n",
       "              ('displ', '5.9'),\n",
       "              ('year', '1999'),\n",
       "              ('cyl', '8'),\n",
       "              ('trans', 'auto(l4)'),\n",
       "              ('drv', '4'),\n",
       "              ('cty', '11'),\n",
       "              ('hwy', '15'),\n",
       "              ('fl', 'r'),\n",
       "              ('class', 'suv')]),\n",
       " OrderedDict([('', '65'),\n",
       "              ('manufacturer', 'dodge'),\n",
       "              ('model', 'ram 1500 pickup 4wd'),\n",
       "              ('displ', '4.7'),\n",
       "              ('year', '2008'),\n",
       "              ('cyl', '8'),\n",
       "              ('trans', 'manual(m6)'),\n",
       "              ('drv', '4'),\n",
       "              ('cty', '12'),\n",
       "              ('hwy', '16'),\n",
       "              ('fl', 'r'),\n",
       "              ('class', 'pickup')]),\n",
       " OrderedDict([('', '66'),\n",
       "              ('manufacturer', 'dodge'),\n",
       "              ('model', 'ram 1500 pickup 4wd'),\n",
       "              ('displ', '4.7'),\n",
       "              ('year', '2008'),\n",
       "              ('cyl', '8'),\n",
       "              ('trans', 'auto(l5)'),\n",
       "              ('drv', '4'),\n",
       "              ('cty', '9'),\n",
       "              ('hwy', '12'),\n",
       "              ('fl', 'e'),\n",
       "              ('class', 'pickup')]),\n",
       " OrderedDict([('', '67'),\n",
       "              ('manufacturer', 'dodge'),\n",
       "              ('model', 'ram 1500 pickup 4wd'),\n",
       "              ('displ', '4.7'),\n",
       "              ('year', '2008'),\n",
       "              ('cyl', '8'),\n",
       "              ('trans', 'auto(l5)'),\n",
       "              ('drv', '4'),\n",
       "              ('cty', '13'),\n",
       "              ('hwy', '17'),\n",
       "              ('fl', 'r'),\n",
       "              ('class', 'pickup')]),\n",
       " OrderedDict([('', '68'),\n",
       "              ('manufacturer', 'dodge'),\n",
       "              ('model', 'ram 1500 pickup 4wd'),\n",
       "              ('displ', '4.7'),\n",
       "              ('year', '2008'),\n",
       "              ('cyl', '8'),\n",
       "              ('trans', 'auto(l5)'),\n",
       "              ('drv', '4'),\n",
       "              ('cty', '13'),\n",
       "              ('hwy', '17'),\n",
       "              ('fl', 'r'),\n",
       "              ('class', 'pickup')]),\n",
       " OrderedDict([('', '69'),\n",
       "              ('manufacturer', 'dodge'),\n",
       "              ('model', 'ram 1500 pickup 4wd'),\n",
       "              ('displ', '4.7'),\n",
       "              ('year', '2008'),\n",
       "              ('cyl', '8'),\n",
       "              ('trans', 'manual(m6)'),\n",
       "              ('drv', '4'),\n",
       "              ('cty', '12'),\n",
       "              ('hwy', '16'),\n",
       "              ('fl', 'r'),\n",
       "              ('class', 'pickup')]),\n",
       " OrderedDict([('', '70'),\n",
       "              ('manufacturer', 'dodge'),\n",
       "              ('model', 'ram 1500 pickup 4wd'),\n",
       "              ('displ', '4.7'),\n",
       "              ('year', '2008'),\n",
       "              ('cyl', '8'),\n",
       "              ('trans', 'manual(m6)'),\n",
       "              ('drv', '4'),\n",
       "              ('cty', '9'),\n",
       "              ('hwy', '12'),\n",
       "              ('fl', 'e'),\n",
       "              ('class', 'pickup')]),\n",
       " OrderedDict([('', '71'),\n",
       "              ('manufacturer', 'dodge'),\n",
       "              ('model', 'ram 1500 pickup 4wd'),\n",
       "              ('displ', '5.2'),\n",
       "              ('year', '1999'),\n",
       "              ('cyl', '8'),\n",
       "              ('trans', 'auto(l4)'),\n",
       "              ('drv', '4'),\n",
       "              ('cty', '11'),\n",
       "              ('hwy', '15'),\n",
       "              ('fl', 'r'),\n",
       "              ('class', 'pickup')]),\n",
       " OrderedDict([('', '72'),\n",
       "              ('manufacturer', 'dodge'),\n",
       "              ('model', 'ram 1500 pickup 4wd'),\n",
       "              ('displ', '5.2'),\n",
       "              ('year', '1999'),\n",
       "              ('cyl', '8'),\n",
       "              ('trans', 'manual(m5)'),\n",
       "              ('drv', '4'),\n",
       "              ('cty', '11'),\n",
       "              ('hwy', '16'),\n",
       "              ('fl', 'r'),\n",
       "              ('class', 'pickup')]),\n",
       " OrderedDict([('', '73'),\n",
       "              ('manufacturer', 'dodge'),\n",
       "              ('model', 'ram 1500 pickup 4wd'),\n",
       "              ('displ', '5.7'),\n",
       "              ('year', '2008'),\n",
       "              ('cyl', '8'),\n",
       "              ('trans', 'auto(l5)'),\n",
       "              ('drv', '4'),\n",
       "              ('cty', '13'),\n",
       "              ('hwy', '17'),\n",
       "              ('fl', 'r'),\n",
       "              ('class', 'pickup')]),\n",
       " OrderedDict([('', '74'),\n",
       "              ('manufacturer', 'dodge'),\n",
       "              ('model', 'ram 1500 pickup 4wd'),\n",
       "              ('displ', '5.9'),\n",
       "              ('year', '1999'),\n",
       "              ('cyl', '8'),\n",
       "              ('trans', 'auto(l4)'),\n",
       "              ('drv', '4'),\n",
       "              ('cty', '11'),\n",
       "              ('hwy', '15'),\n",
       "              ('fl', 'r'),\n",
       "              ('class', 'pickup')]),\n",
       " OrderedDict([('', '75'),\n",
       "              ('manufacturer', 'ford'),\n",
       "              ('model', 'expedition 2wd'),\n",
       "              ('displ', '4.6'),\n",
       "              ('year', '1999'),\n",
       "              ('cyl', '8'),\n",
       "              ('trans', 'auto(l4)'),\n",
       "              ('drv', 'r'),\n",
       "              ('cty', '11'),\n",
       "              ('hwy', '17'),\n",
       "              ('fl', 'r'),\n",
       "              ('class', 'suv')]),\n",
       " OrderedDict([('', '76'),\n",
       "              ('manufacturer', 'ford'),\n",
       "              ('model', 'expedition 2wd'),\n",
       "              ('displ', '5.4'),\n",
       "              ('year', '1999'),\n",
       "              ('cyl', '8'),\n",
       "              ('trans', 'auto(l4)'),\n",
       "              ('drv', 'r'),\n",
       "              ('cty', '11'),\n",
       "              ('hwy', '17'),\n",
       "              ('fl', 'r'),\n",
       "              ('class', 'suv')]),\n",
       " OrderedDict([('', '77'),\n",
       "              ('manufacturer', 'ford'),\n",
       "              ('model', 'expedition 2wd'),\n",
       "              ('displ', '5.4'),\n",
       "              ('year', '2008'),\n",
       "              ('cyl', '8'),\n",
       "              ('trans', 'auto(l6)'),\n",
       "              ('drv', 'r'),\n",
       "              ('cty', '12'),\n",
       "              ('hwy', '18'),\n",
       "              ('fl', 'r'),\n",
       "              ('class', 'suv')]),\n",
       " OrderedDict([('', '78'),\n",
       "              ('manufacturer', 'ford'),\n",
       "              ('model', 'explorer 4wd'),\n",
       "              ('displ', '4'),\n",
       "              ('year', '1999'),\n",
       "              ('cyl', '6'),\n",
       "              ('trans', 'auto(l5)'),\n",
       "              ('drv', '4'),\n",
       "              ('cty', '14'),\n",
       "              ('hwy', '17'),\n",
       "              ('fl', 'r'),\n",
       "              ('class', 'suv')]),\n",
       " OrderedDict([('', '79'),\n",
       "              ('manufacturer', 'ford'),\n",
       "              ('model', 'explorer 4wd'),\n",
       "              ('displ', '4'),\n",
       "              ('year', '1999'),\n",
       "              ('cyl', '6'),\n",
       "              ('trans', 'manual(m5)'),\n",
       "              ('drv', '4'),\n",
       "              ('cty', '15'),\n",
       "              ('hwy', '19'),\n",
       "              ('fl', 'r'),\n",
       "              ('class', 'suv')]),\n",
       " OrderedDict([('', '80'),\n",
       "              ('manufacturer', 'ford'),\n",
       "              ('model', 'explorer 4wd'),\n",
       "              ('displ', '4'),\n",
       "              ('year', '1999'),\n",
       "              ('cyl', '6'),\n",
       "              ('trans', 'auto(l5)'),\n",
       "              ('drv', '4'),\n",
       "              ('cty', '14'),\n",
       "              ('hwy', '17'),\n",
       "              ('fl', 'r'),\n",
       "              ('class', 'suv')]),\n",
       " OrderedDict([('', '81'),\n",
       "              ('manufacturer', 'ford'),\n",
       "              ('model', 'explorer 4wd'),\n",
       "              ('displ', '4'),\n",
       "              ('year', '2008'),\n",
       "              ('cyl', '6'),\n",
       "              ('trans', 'auto(l5)'),\n",
       "              ('drv', '4'),\n",
       "              ('cty', '13'),\n",
       "              ('hwy', '19'),\n",
       "              ('fl', 'r'),\n",
       "              ('class', 'suv')]),\n",
       " OrderedDict([('', '82'),\n",
       "              ('manufacturer', 'ford'),\n",
       "              ('model', 'explorer 4wd'),\n",
       "              ('displ', '4.6'),\n",
       "              ('year', '2008'),\n",
       "              ('cyl', '8'),\n",
       "              ('trans', 'auto(l6)'),\n",
       "              ('drv', '4'),\n",
       "              ('cty', '13'),\n",
       "              ('hwy', '19'),\n",
       "              ('fl', 'r'),\n",
       "              ('class', 'suv')]),\n",
       " OrderedDict([('', '83'),\n",
       "              ('manufacturer', 'ford'),\n",
       "              ('model', 'explorer 4wd'),\n",
       "              ('displ', '5'),\n",
       "              ('year', '1999'),\n",
       "              ('cyl', '8'),\n",
       "              ('trans', 'auto(l4)'),\n",
       "              ('drv', '4'),\n",
       "              ('cty', '13'),\n",
       "              ('hwy', '17'),\n",
       "              ('fl', 'r'),\n",
       "              ('class', 'suv')]),\n",
       " OrderedDict([('', '84'),\n",
       "              ('manufacturer', 'ford'),\n",
       "              ('model', 'f150 pickup 4wd'),\n",
       "              ('displ', '4.2'),\n",
       "              ('year', '1999'),\n",
       "              ('cyl', '6'),\n",
       "              ('trans', 'auto(l4)'),\n",
       "              ('drv', '4'),\n",
       "              ('cty', '14'),\n",
       "              ('hwy', '17'),\n",
       "              ('fl', 'r'),\n",
       "              ('class', 'pickup')]),\n",
       " OrderedDict([('', '85'),\n",
       "              ('manufacturer', 'ford'),\n",
       "              ('model', 'f150 pickup 4wd'),\n",
       "              ('displ', '4.2'),\n",
       "              ('year', '1999'),\n",
       "              ('cyl', '6'),\n",
       "              ('trans', 'manual(m5)'),\n",
       "              ('drv', '4'),\n",
       "              ('cty', '14'),\n",
       "              ('hwy', '17'),\n",
       "              ('fl', 'r'),\n",
       "              ('class', 'pickup')]),\n",
       " OrderedDict([('', '86'),\n",
       "              ('manufacturer', 'ford'),\n",
       "              ('model', 'f150 pickup 4wd'),\n",
       "              ('displ', '4.6'),\n",
       "              ('year', '1999'),\n",
       "              ('cyl', '8'),\n",
       "              ('trans', 'manual(m5)'),\n",
       "              ('drv', '4'),\n",
       "              ('cty', '13'),\n",
       "              ('hwy', '16'),\n",
       "              ('fl', 'r'),\n",
       "              ('class', 'pickup')]),\n",
       " OrderedDict([('', '87'),\n",
       "              ('manufacturer', 'ford'),\n",
       "              ('model', 'f150 pickup 4wd'),\n",
       "              ('displ', '4.6'),\n",
       "              ('year', '1999'),\n",
       "              ('cyl', '8'),\n",
       "              ('trans', 'auto(l4)'),\n",
       "              ('drv', '4'),\n",
       "              ('cty', '13'),\n",
       "              ('hwy', '16'),\n",
       "              ('fl', 'r'),\n",
       "              ('class', 'pickup')]),\n",
       " OrderedDict([('', '88'),\n",
       "              ('manufacturer', 'ford'),\n",
       "              ('model', 'f150 pickup 4wd'),\n",
       "              ('displ', '4.6'),\n",
       "              ('year', '2008'),\n",
       "              ('cyl', '8'),\n",
       "              ('trans', 'auto(l4)'),\n",
       "              ('drv', '4'),\n",
       "              ('cty', '13'),\n",
       "              ('hwy', '17'),\n",
       "              ('fl', 'r'),\n",
       "              ('class', 'pickup')]),\n",
       " OrderedDict([('', '89'),\n",
       "              ('manufacturer', 'ford'),\n",
       "              ('model', 'f150 pickup 4wd'),\n",
       "              ('displ', '5.4'),\n",
       "              ('year', '1999'),\n",
       "              ('cyl', '8'),\n",
       "              ('trans', 'auto(l4)'),\n",
       "              ('drv', '4'),\n",
       "              ('cty', '11'),\n",
       "              ('hwy', '15'),\n",
       "              ('fl', 'r'),\n",
       "              ('class', 'pickup')]),\n",
       " OrderedDict([('', '90'),\n",
       "              ('manufacturer', 'ford'),\n",
       "              ('model', 'f150 pickup 4wd'),\n",
       "              ('displ', '5.4'),\n",
       "              ('year', '2008'),\n",
       "              ('cyl', '8'),\n",
       "              ('trans', 'auto(l4)'),\n",
       "              ('drv', '4'),\n",
       "              ('cty', '13'),\n",
       "              ('hwy', '17'),\n",
       "              ('fl', 'r'),\n",
       "              ('class', 'pickup')]),\n",
       " OrderedDict([('', '91'),\n",
       "              ('manufacturer', 'ford'),\n",
       "              ('model', 'mustang'),\n",
       "              ('displ', '3.8'),\n",
       "              ('year', '1999'),\n",
       "              ('cyl', '6'),\n",
       "              ('trans', 'manual(m5)'),\n",
       "              ('drv', 'r'),\n",
       "              ('cty', '18'),\n",
       "              ('hwy', '26'),\n",
       "              ('fl', 'r'),\n",
       "              ('class', 'subcompact')]),\n",
       " OrderedDict([('', '92'),\n",
       "              ('manufacturer', 'ford'),\n",
       "              ('model', 'mustang'),\n",
       "              ('displ', '3.8'),\n",
       "              ('year', '1999'),\n",
       "              ('cyl', '6'),\n",
       "              ('trans', 'auto(l4)'),\n",
       "              ('drv', 'r'),\n",
       "              ('cty', '18'),\n",
       "              ('hwy', '25'),\n",
       "              ('fl', 'r'),\n",
       "              ('class', 'subcompact')]),\n",
       " OrderedDict([('', '93'),\n",
       "              ('manufacturer', 'ford'),\n",
       "              ('model', 'mustang'),\n",
       "              ('displ', '4'),\n",
       "              ('year', '2008'),\n",
       "              ('cyl', '6'),\n",
       "              ('trans', 'manual(m5)'),\n",
       "              ('drv', 'r'),\n",
       "              ('cty', '17'),\n",
       "              ('hwy', '26'),\n",
       "              ('fl', 'r'),\n",
       "              ('class', 'subcompact')]),\n",
       " OrderedDict([('', '94'),\n",
       "              ('manufacturer', 'ford'),\n",
       "              ('model', 'mustang'),\n",
       "              ('displ', '4'),\n",
       "              ('year', '2008'),\n",
       "              ('cyl', '6'),\n",
       "              ('trans', 'auto(l5)'),\n",
       "              ('drv', 'r'),\n",
       "              ('cty', '16'),\n",
       "              ('hwy', '24'),\n",
       "              ('fl', 'r'),\n",
       "              ('class', 'subcompact')]),\n",
       " OrderedDict([('', '95'),\n",
       "              ('manufacturer', 'ford'),\n",
       "              ('model', 'mustang'),\n",
       "              ('displ', '4.6'),\n",
       "              ('year', '1999'),\n",
       "              ('cyl', '8'),\n",
       "              ('trans', 'auto(l4)'),\n",
       "              ('drv', 'r'),\n",
       "              ('cty', '15'),\n",
       "              ('hwy', '21'),\n",
       "              ('fl', 'r'),\n",
       "              ('class', 'subcompact')]),\n",
       " OrderedDict([('', '96'),\n",
       "              ('manufacturer', 'ford'),\n",
       "              ('model', 'mustang'),\n",
       "              ('displ', '4.6'),\n",
       "              ('year', '1999'),\n",
       "              ('cyl', '8'),\n",
       "              ('trans', 'manual(m5)'),\n",
       "              ('drv', 'r'),\n",
       "              ('cty', '15'),\n",
       "              ('hwy', '22'),\n",
       "              ('fl', 'r'),\n",
       "              ('class', 'subcompact')]),\n",
       " OrderedDict([('', '97'),\n",
       "              ('manufacturer', 'ford'),\n",
       "              ('model', 'mustang'),\n",
       "              ('displ', '4.6'),\n",
       "              ('year', '2008'),\n",
       "              ('cyl', '8'),\n",
       "              ('trans', 'manual(m5)'),\n",
       "              ('drv', 'r'),\n",
       "              ('cty', '15'),\n",
       "              ('hwy', '23'),\n",
       "              ('fl', 'r'),\n",
       "              ('class', 'subcompact')]),\n",
       " OrderedDict([('', '98'),\n",
       "              ('manufacturer', 'ford'),\n",
       "              ('model', 'mustang'),\n",
       "              ('displ', '4.6'),\n",
       "              ('year', '2008'),\n",
       "              ('cyl', '8'),\n",
       "              ('trans', 'auto(l5)'),\n",
       "              ('drv', 'r'),\n",
       "              ('cty', '15'),\n",
       "              ('hwy', '22'),\n",
       "              ('fl', 'r'),\n",
       "              ('class', 'subcompact')]),\n",
       " OrderedDict([('', '99'),\n",
       "              ('manufacturer', 'ford'),\n",
       "              ('model', 'mustang'),\n",
       "              ('displ', '5.4'),\n",
       "              ('year', '2008'),\n",
       "              ('cyl', '8'),\n",
       "              ('trans', 'manual(m6)'),\n",
       "              ('drv', 'r'),\n",
       "              ('cty', '14'),\n",
       "              ('hwy', '20'),\n",
       "              ('fl', 'p'),\n",
       "              ('class', 'subcompact')]),\n",
       " OrderedDict([('', '100'),\n",
       "              ('manufacturer', 'honda'),\n",
       "              ('model', 'civic'),\n",
       "              ('displ', '1.6'),\n",
       "              ('year', '1999'),\n",
       "              ('cyl', '4'),\n",
       "              ('trans', 'manual(m5)'),\n",
       "              ('drv', 'f'),\n",
       "              ('cty', '28'),\n",
       "              ('hwy', '33'),\n",
       "              ('fl', 'r'),\n",
       "              ('class', 'subcompact')]),\n",
       " OrderedDict([('', '101'),\n",
       "              ('manufacturer', 'honda'),\n",
       "              ('model', 'civic'),\n",
       "              ('displ', '1.6'),\n",
       "              ('year', '1999'),\n",
       "              ('cyl', '4'),\n",
       "              ('trans', 'auto(l4)'),\n",
       "              ('drv', 'f'),\n",
       "              ('cty', '24'),\n",
       "              ('hwy', '32'),\n",
       "              ('fl', 'r'),\n",
       "              ('class', 'subcompact')]),\n",
       " OrderedDict([('', '102'),\n",
       "              ('manufacturer', 'honda'),\n",
       "              ('model', 'civic'),\n",
       "              ('displ', '1.6'),\n",
       "              ('year', '1999'),\n",
       "              ('cyl', '4'),\n",
       "              ('trans', 'manual(m5)'),\n",
       "              ('drv', 'f'),\n",
       "              ('cty', '25'),\n",
       "              ('hwy', '32'),\n",
       "              ('fl', 'r'),\n",
       "              ('class', 'subcompact')]),\n",
       " OrderedDict([('', '103'),\n",
       "              ('manufacturer', 'honda'),\n",
       "              ('model', 'civic'),\n",
       "              ('displ', '1.6'),\n",
       "              ('year', '1999'),\n",
       "              ('cyl', '4'),\n",
       "              ('trans', 'manual(m5)'),\n",
       "              ('drv', 'f'),\n",
       "              ('cty', '23'),\n",
       "              ('hwy', '29'),\n",
       "              ('fl', 'p'),\n",
       "              ('class', 'subcompact')]),\n",
       " OrderedDict([('', '104'),\n",
       "              ('manufacturer', 'honda'),\n",
       "              ('model', 'civic'),\n",
       "              ('displ', '1.6'),\n",
       "              ('year', '1999'),\n",
       "              ('cyl', '4'),\n",
       "              ('trans', 'auto(l4)'),\n",
       "              ('drv', 'f'),\n",
       "              ('cty', '24'),\n",
       "              ('hwy', '32'),\n",
       "              ('fl', 'r'),\n",
       "              ('class', 'subcompact')]),\n",
       " OrderedDict([('', '105'),\n",
       "              ('manufacturer', 'honda'),\n",
       "              ('model', 'civic'),\n",
       "              ('displ', '1.8'),\n",
       "              ('year', '2008'),\n",
       "              ('cyl', '4'),\n",
       "              ('trans', 'manual(m5)'),\n",
       "              ('drv', 'f'),\n",
       "              ('cty', '26'),\n",
       "              ('hwy', '34'),\n",
       "              ('fl', 'r'),\n",
       "              ('class', 'subcompact')]),\n",
       " OrderedDict([('', '106'),\n",
       "              ('manufacturer', 'honda'),\n",
       "              ('model', 'civic'),\n",
       "              ('displ', '1.8'),\n",
       "              ('year', '2008'),\n",
       "              ('cyl', '4'),\n",
       "              ('trans', 'auto(l5)'),\n",
       "              ('drv', 'f'),\n",
       "              ('cty', '25'),\n",
       "              ('hwy', '36'),\n",
       "              ('fl', 'r'),\n",
       "              ('class', 'subcompact')]),\n",
       " OrderedDict([('', '107'),\n",
       "              ('manufacturer', 'honda'),\n",
       "              ('model', 'civic'),\n",
       "              ('displ', '1.8'),\n",
       "              ('year', '2008'),\n",
       "              ('cyl', '4'),\n",
       "              ('trans', 'auto(l5)'),\n",
       "              ('drv', 'f'),\n",
       "              ('cty', '24'),\n",
       "              ('hwy', '36'),\n",
       "              ('fl', 'c'),\n",
       "              ('class', 'subcompact')]),\n",
       " OrderedDict([('', '108'),\n",
       "              ('manufacturer', 'honda'),\n",
       "              ('model', 'civic'),\n",
       "              ('displ', '2'),\n",
       "              ('year', '2008'),\n",
       "              ('cyl', '4'),\n",
       "              ('trans', 'manual(m6)'),\n",
       "              ('drv', 'f'),\n",
       "              ('cty', '21'),\n",
       "              ('hwy', '29'),\n",
       "              ('fl', 'p'),\n",
       "              ('class', 'subcompact')]),\n",
       " OrderedDict([('', '109'),\n",
       "              ('manufacturer', 'hyundai'),\n",
       "              ('model', 'sonata'),\n",
       "              ('displ', '2.4'),\n",
       "              ('year', '1999'),\n",
       "              ('cyl', '4'),\n",
       "              ('trans', 'auto(l4)'),\n",
       "              ('drv', 'f'),\n",
       "              ('cty', '18'),\n",
       "              ('hwy', '26'),\n",
       "              ('fl', 'r'),\n",
       "              ('class', 'midsize')]),\n",
       " OrderedDict([('', '110'),\n",
       "              ('manufacturer', 'hyundai'),\n",
       "              ('model', 'sonata'),\n",
       "              ('displ', '2.4'),\n",
       "              ('year', '1999'),\n",
       "              ('cyl', '4'),\n",
       "              ('trans', 'manual(m5)'),\n",
       "              ('drv', 'f'),\n",
       "              ('cty', '18'),\n",
       "              ('hwy', '27'),\n",
       "              ('fl', 'r'),\n",
       "              ('class', 'midsize')]),\n",
       " OrderedDict([('', '111'),\n",
       "              ('manufacturer', 'hyundai'),\n",
       "              ('model', 'sonata'),\n",
       "              ('displ', '2.4'),\n",
       "              ('year', '2008'),\n",
       "              ('cyl', '4'),\n",
       "              ('trans', 'auto(l4)'),\n",
       "              ('drv', 'f'),\n",
       "              ('cty', '21'),\n",
       "              ('hwy', '30'),\n",
       "              ('fl', 'r'),\n",
       "              ('class', 'midsize')]),\n",
       " OrderedDict([('', '112'),\n",
       "              ('manufacturer', 'hyundai'),\n",
       "              ('model', 'sonata'),\n",
       "              ('displ', '2.4'),\n",
       "              ('year', '2008'),\n",
       "              ('cyl', '4'),\n",
       "              ('trans', 'manual(m5)'),\n",
       "              ('drv', 'f'),\n",
       "              ('cty', '21'),\n",
       "              ('hwy', '31'),\n",
       "              ('fl', 'r'),\n",
       "              ('class', 'midsize')]),\n",
       " OrderedDict([('', '113'),\n",
       "              ('manufacturer', 'hyundai'),\n",
       "              ('model', 'sonata'),\n",
       "              ('displ', '2.5'),\n",
       "              ('year', '1999'),\n",
       "              ('cyl', '6'),\n",
       "              ('trans', 'auto(l4)'),\n",
       "              ('drv', 'f'),\n",
       "              ('cty', '18'),\n",
       "              ('hwy', '26'),\n",
       "              ('fl', 'r'),\n",
       "              ('class', 'midsize')]),\n",
       " OrderedDict([('', '114'),\n",
       "              ('manufacturer', 'hyundai'),\n",
       "              ('model', 'sonata'),\n",
       "              ('displ', '2.5'),\n",
       "              ('year', '1999'),\n",
       "              ('cyl', '6'),\n",
       "              ('trans', 'manual(m5)'),\n",
       "              ('drv', 'f'),\n",
       "              ('cty', '18'),\n",
       "              ('hwy', '26'),\n",
       "              ('fl', 'r'),\n",
       "              ('class', 'midsize')]),\n",
       " OrderedDict([('', '115'),\n",
       "              ('manufacturer', 'hyundai'),\n",
       "              ('model', 'sonata'),\n",
       "              ('displ', '3.3'),\n",
       "              ('year', '2008'),\n",
       "              ('cyl', '6'),\n",
       "              ('trans', 'auto(l5)'),\n",
       "              ('drv', 'f'),\n",
       "              ('cty', '19'),\n",
       "              ('hwy', '28'),\n",
       "              ('fl', 'r'),\n",
       "              ('class', 'midsize')]),\n",
       " OrderedDict([('', '116'),\n",
       "              ('manufacturer', 'hyundai'),\n",
       "              ('model', 'tiburon'),\n",
       "              ('displ', '2'),\n",
       "              ('year', '1999'),\n",
       "              ('cyl', '4'),\n",
       "              ('trans', 'auto(l4)'),\n",
       "              ('drv', 'f'),\n",
       "              ('cty', '19'),\n",
       "              ('hwy', '26'),\n",
       "              ('fl', 'r'),\n",
       "              ('class', 'subcompact')]),\n",
       " OrderedDict([('', '117'),\n",
       "              ('manufacturer', 'hyundai'),\n",
       "              ('model', 'tiburon'),\n",
       "              ('displ', '2'),\n",
       "              ('year', '1999'),\n",
       "              ('cyl', '4'),\n",
       "              ('trans', 'manual(m5)'),\n",
       "              ('drv', 'f'),\n",
       "              ('cty', '19'),\n",
       "              ('hwy', '29'),\n",
       "              ('fl', 'r'),\n",
       "              ('class', 'subcompact')]),\n",
       " OrderedDict([('', '118'),\n",
       "              ('manufacturer', 'hyundai'),\n",
       "              ('model', 'tiburon'),\n",
       "              ('displ', '2'),\n",
       "              ('year', '2008'),\n",
       "              ('cyl', '4'),\n",
       "              ('trans', 'manual(m5)'),\n",
       "              ('drv', 'f'),\n",
       "              ('cty', '20'),\n",
       "              ('hwy', '28'),\n",
       "              ('fl', 'r'),\n",
       "              ('class', 'subcompact')]),\n",
       " OrderedDict([('', '119'),\n",
       "              ('manufacturer', 'hyundai'),\n",
       "              ('model', 'tiburon'),\n",
       "              ('displ', '2'),\n",
       "              ('year', '2008'),\n",
       "              ('cyl', '4'),\n",
       "              ('trans', 'auto(l4)'),\n",
       "              ('drv', 'f'),\n",
       "              ('cty', '20'),\n",
       "              ('hwy', '27'),\n",
       "              ('fl', 'r'),\n",
       "              ('class', 'subcompact')]),\n",
       " OrderedDict([('', '120'),\n",
       "              ('manufacturer', 'hyundai'),\n",
       "              ('model', 'tiburon'),\n",
       "              ('displ', '2.7'),\n",
       "              ('year', '2008'),\n",
       "              ('cyl', '6'),\n",
       "              ('trans', 'auto(l4)'),\n",
       "              ('drv', 'f'),\n",
       "              ('cty', '17'),\n",
       "              ('hwy', '24'),\n",
       "              ('fl', 'r'),\n",
       "              ('class', 'subcompact')]),\n",
       " OrderedDict([('', '121'),\n",
       "              ('manufacturer', 'hyundai'),\n",
       "              ('model', 'tiburon'),\n",
       "              ('displ', '2.7'),\n",
       "              ('year', '2008'),\n",
       "              ('cyl', '6'),\n",
       "              ('trans', 'manual(m6)'),\n",
       "              ('drv', 'f'),\n",
       "              ('cty', '16'),\n",
       "              ('hwy', '24'),\n",
       "              ('fl', 'r'),\n",
       "              ('class', 'subcompact')]),\n",
       " OrderedDict([('', '122'),\n",
       "              ('manufacturer', 'hyundai'),\n",
       "              ('model', 'tiburon'),\n",
       "              ('displ', '2.7'),\n",
       "              ('year', '2008'),\n",
       "              ('cyl', '6'),\n",
       "              ('trans', 'manual(m5)'),\n",
       "              ('drv', 'f'),\n",
       "              ('cty', '17'),\n",
       "              ('hwy', '24'),\n",
       "              ('fl', 'r'),\n",
       "              ('class', 'subcompact')]),\n",
       " OrderedDict([('', '123'),\n",
       "              ('manufacturer', 'jeep'),\n",
       "              ('model', 'grand cherokee 4wd'),\n",
       "              ('displ', '3'),\n",
       "              ('year', '2008'),\n",
       "              ('cyl', '6'),\n",
       "              ('trans', 'auto(l5)'),\n",
       "              ('drv', '4'),\n",
       "              ('cty', '17'),\n",
       "              ('hwy', '22'),\n",
       "              ('fl', 'd'),\n",
       "              ('class', 'suv')]),\n",
       " OrderedDict([('', '124'),\n",
       "              ('manufacturer', 'jeep'),\n",
       "              ('model', 'grand cherokee 4wd'),\n",
       "              ('displ', '3.7'),\n",
       "              ('year', '2008'),\n",
       "              ('cyl', '6'),\n",
       "              ('trans', 'auto(l5)'),\n",
       "              ('drv', '4'),\n",
       "              ('cty', '15'),\n",
       "              ('hwy', '19'),\n",
       "              ('fl', 'r'),\n",
       "              ('class', 'suv')]),\n",
       " OrderedDict([('', '125'),\n",
       "              ('manufacturer', 'jeep'),\n",
       "              ('model', 'grand cherokee 4wd'),\n",
       "              ('displ', '4'),\n",
       "              ('year', '1999'),\n",
       "              ('cyl', '6'),\n",
       "              ('trans', 'auto(l4)'),\n",
       "              ('drv', '4'),\n",
       "              ('cty', '15'),\n",
       "              ('hwy', '20'),\n",
       "              ('fl', 'r'),\n",
       "              ('class', 'suv')]),\n",
       " OrderedDict([('', '126'),\n",
       "              ('manufacturer', 'jeep'),\n",
       "              ('model', 'grand cherokee 4wd'),\n",
       "              ('displ', '4.7'),\n",
       "              ('year', '1999'),\n",
       "              ('cyl', '8'),\n",
       "              ('trans', 'auto(l4)'),\n",
       "              ('drv', '4'),\n",
       "              ('cty', '14'),\n",
       "              ('hwy', '17'),\n",
       "              ('fl', 'r'),\n",
       "              ('class', 'suv')]),\n",
       " OrderedDict([('', '127'),\n",
       "              ('manufacturer', 'jeep'),\n",
       "              ('model', 'grand cherokee 4wd'),\n",
       "              ('displ', '4.7'),\n",
       "              ('year', '2008'),\n",
       "              ('cyl', '8'),\n",
       "              ('trans', 'auto(l5)'),\n",
       "              ('drv', '4'),\n",
       "              ('cty', '9'),\n",
       "              ('hwy', '12'),\n",
       "              ('fl', 'e'),\n",
       "              ('class', 'suv')]),\n",
       " OrderedDict([('', '128'),\n",
       "              ('manufacturer', 'jeep'),\n",
       "              ('model', 'grand cherokee 4wd'),\n",
       "              ('displ', '4.7'),\n",
       "              ('year', '2008'),\n",
       "              ('cyl', '8'),\n",
       "              ('trans', 'auto(l5)'),\n",
       "              ('drv', '4'),\n",
       "              ('cty', '14'),\n",
       "              ('hwy', '19'),\n",
       "              ('fl', 'r'),\n",
       "              ('class', 'suv')]),\n",
       " OrderedDict([('', '129'),\n",
       "              ('manufacturer', 'jeep'),\n",
       "              ('model', 'grand cherokee 4wd'),\n",
       "              ('displ', '5.7'),\n",
       "              ('year', '2008'),\n",
       "              ('cyl', '8'),\n",
       "              ('trans', 'auto(l5)'),\n",
       "              ('drv', '4'),\n",
       "              ('cty', '13'),\n",
       "              ('hwy', '18'),\n",
       "              ('fl', 'r'),\n",
       "              ('class', 'suv')]),\n",
       " OrderedDict([('', '130'),\n",
       "              ('manufacturer', 'jeep'),\n",
       "              ('model', 'grand cherokee 4wd'),\n",
       "              ('displ', '6.1'),\n",
       "              ('year', '2008'),\n",
       "              ('cyl', '8'),\n",
       "              ('trans', 'auto(l5)'),\n",
       "              ('drv', '4'),\n",
       "              ('cty', '11'),\n",
       "              ('hwy', '14'),\n",
       "              ('fl', 'p'),\n",
       "              ('class', 'suv')]),\n",
       " OrderedDict([('', '131'),\n",
       "              ('manufacturer', 'land rover'),\n",
       "              ('model', 'range rover'),\n",
       "              ('displ', '4'),\n",
       "              ('year', '1999'),\n",
       "              ('cyl', '8'),\n",
       "              ('trans', 'auto(l4)'),\n",
       "              ('drv', '4'),\n",
       "              ('cty', '11'),\n",
       "              ('hwy', '15'),\n",
       "              ('fl', 'p'),\n",
       "              ('class', 'suv')]),\n",
       " OrderedDict([('', '132'),\n",
       "              ('manufacturer', 'land rover'),\n",
       "              ('model', 'range rover'),\n",
       "              ('displ', '4.2'),\n",
       "              ('year', '2008'),\n",
       "              ('cyl', '8'),\n",
       "              ('trans', 'auto(s6)'),\n",
       "              ('drv', '4'),\n",
       "              ('cty', '12'),\n",
       "              ('hwy', '18'),\n",
       "              ('fl', 'r'),\n",
       "              ('class', 'suv')]),\n",
       " OrderedDict([('', '133'),\n",
       "              ('manufacturer', 'land rover'),\n",
       "              ('model', 'range rover'),\n",
       "              ('displ', '4.4'),\n",
       "              ('year', '2008'),\n",
       "              ('cyl', '8'),\n",
       "              ('trans', 'auto(s6)'),\n",
       "              ('drv', '4'),\n",
       "              ('cty', '12'),\n",
       "              ('hwy', '18'),\n",
       "              ('fl', 'r'),\n",
       "              ('class', 'suv')]),\n",
       " OrderedDict([('', '134'),\n",
       "              ('manufacturer', 'land rover'),\n",
       "              ('model', 'range rover'),\n",
       "              ('displ', '4.6'),\n",
       "              ('year', '1999'),\n",
       "              ('cyl', '8'),\n",
       "              ('trans', 'auto(l4)'),\n",
       "              ('drv', '4'),\n",
       "              ('cty', '11'),\n",
       "              ('hwy', '15'),\n",
       "              ('fl', 'p'),\n",
       "              ('class', 'suv')]),\n",
       " OrderedDict([('', '135'),\n",
       "              ('manufacturer', 'lincoln'),\n",
       "              ('model', 'navigator 2wd'),\n",
       "              ('displ', '5.4'),\n",
       "              ('year', '1999'),\n",
       "              ('cyl', '8'),\n",
       "              ('trans', 'auto(l4)'),\n",
       "              ('drv', 'r'),\n",
       "              ('cty', '11'),\n",
       "              ('hwy', '17'),\n",
       "              ('fl', 'r'),\n",
       "              ('class', 'suv')]),\n",
       " OrderedDict([('', '136'),\n",
       "              ('manufacturer', 'lincoln'),\n",
       "              ('model', 'navigator 2wd'),\n",
       "              ('displ', '5.4'),\n",
       "              ('year', '1999'),\n",
       "              ('cyl', '8'),\n",
       "              ('trans', 'auto(l4)'),\n",
       "              ('drv', 'r'),\n",
       "              ('cty', '11'),\n",
       "              ('hwy', '16'),\n",
       "              ('fl', 'p'),\n",
       "              ('class', 'suv')]),\n",
       " OrderedDict([('', '137'),\n",
       "              ('manufacturer', 'lincoln'),\n",
       "              ('model', 'navigator 2wd'),\n",
       "              ('displ', '5.4'),\n",
       "              ('year', '2008'),\n",
       "              ('cyl', '8'),\n",
       "              ('trans', 'auto(l6)'),\n",
       "              ('drv', 'r'),\n",
       "              ('cty', '12'),\n",
       "              ('hwy', '18'),\n",
       "              ('fl', 'r'),\n",
       "              ('class', 'suv')]),\n",
       " OrderedDict([('', '138'),\n",
       "              ('manufacturer', 'mercury'),\n",
       "              ('model', 'mountaineer 4wd'),\n",
       "              ('displ', '4'),\n",
       "              ('year', '1999'),\n",
       "              ('cyl', '6'),\n",
       "              ('trans', 'auto(l5)'),\n",
       "              ('drv', '4'),\n",
       "              ('cty', '14'),\n",
       "              ('hwy', '17'),\n",
       "              ('fl', 'r'),\n",
       "              ('class', 'suv')]),\n",
       " OrderedDict([('', '139'),\n",
       "              ('manufacturer', 'mercury'),\n",
       "              ('model', 'mountaineer 4wd'),\n",
       "              ('displ', '4'),\n",
       "              ('year', '2008'),\n",
       "              ('cyl', '6'),\n",
       "              ('trans', 'auto(l5)'),\n",
       "              ('drv', '4'),\n",
       "              ('cty', '13'),\n",
       "              ('hwy', '19'),\n",
       "              ('fl', 'r'),\n",
       "              ('class', 'suv')]),\n",
       " OrderedDict([('', '140'),\n",
       "              ('manufacturer', 'mercury'),\n",
       "              ('model', 'mountaineer 4wd'),\n",
       "              ('displ', '4.6'),\n",
       "              ('year', '2008'),\n",
       "              ('cyl', '8'),\n",
       "              ('trans', 'auto(l6)'),\n",
       "              ('drv', '4'),\n",
       "              ('cty', '13'),\n",
       "              ('hwy', '19'),\n",
       "              ('fl', 'r'),\n",
       "              ('class', 'suv')]),\n",
       " OrderedDict([('', '141'),\n",
       "              ('manufacturer', 'mercury'),\n",
       "              ('model', 'mountaineer 4wd'),\n",
       "              ('displ', '5'),\n",
       "              ('year', '1999'),\n",
       "              ('cyl', '8'),\n",
       "              ('trans', 'auto(l4)'),\n",
       "              ('drv', '4'),\n",
       "              ('cty', '13'),\n",
       "              ('hwy', '17'),\n",
       "              ('fl', 'r'),\n",
       "              ('class', 'suv')]),\n",
       " OrderedDict([('', '142'),\n",
       "              ('manufacturer', 'nissan'),\n",
       "              ('model', 'altima'),\n",
       "              ('displ', '2.4'),\n",
       "              ('year', '1999'),\n",
       "              ('cyl', '4'),\n",
       "              ('trans', 'manual(m5)'),\n",
       "              ('drv', 'f'),\n",
       "              ('cty', '21'),\n",
       "              ('hwy', '29'),\n",
       "              ('fl', 'r'),\n",
       "              ('class', 'compact')]),\n",
       " OrderedDict([('', '143'),\n",
       "              ('manufacturer', 'nissan'),\n",
       "              ('model', 'altima'),\n",
       "              ('displ', '2.4'),\n",
       "              ('year', '1999'),\n",
       "              ('cyl', '4'),\n",
       "              ('trans', 'auto(l4)'),\n",
       "              ('drv', 'f'),\n",
       "              ('cty', '19'),\n",
       "              ('hwy', '27'),\n",
       "              ('fl', 'r'),\n",
       "              ('class', 'compact')]),\n",
       " OrderedDict([('', '144'),\n",
       "              ('manufacturer', 'nissan'),\n",
       "              ('model', 'altima'),\n",
       "              ('displ', '2.5'),\n",
       "              ('year', '2008'),\n",
       "              ('cyl', '4'),\n",
       "              ('trans', 'auto(av)'),\n",
       "              ('drv', 'f'),\n",
       "              ('cty', '23'),\n",
       "              ('hwy', '31'),\n",
       "              ('fl', 'r'),\n",
       "              ('class', 'midsize')]),\n",
       " OrderedDict([('', '145'),\n",
       "              ('manufacturer', 'nissan'),\n",
       "              ('model', 'altima'),\n",
       "              ('displ', '2.5'),\n",
       "              ('year', '2008'),\n",
       "              ('cyl', '4'),\n",
       "              ('trans', 'manual(m6)'),\n",
       "              ('drv', 'f'),\n",
       "              ('cty', '23'),\n",
       "              ('hwy', '32'),\n",
       "              ('fl', 'r'),\n",
       "              ('class', 'midsize')]),\n",
       " OrderedDict([('', '146'),\n",
       "              ('manufacturer', 'nissan'),\n",
       "              ('model', 'altima'),\n",
       "              ('displ', '3.5'),\n",
       "              ('year', '2008'),\n",
       "              ('cyl', '6'),\n",
       "              ('trans', 'manual(m6)'),\n",
       "              ('drv', 'f'),\n",
       "              ('cty', '19'),\n",
       "              ('hwy', '27'),\n",
       "              ('fl', 'p'),\n",
       "              ('class', 'midsize')]),\n",
       " OrderedDict([('', '147'),\n",
       "              ('manufacturer', 'nissan'),\n",
       "              ('model', 'altima'),\n",
       "              ('displ', '3.5'),\n",
       "              ('year', '2008'),\n",
       "              ('cyl', '6'),\n",
       "              ('trans', 'auto(av)'),\n",
       "              ('drv', 'f'),\n",
       "              ('cty', '19'),\n",
       "              ('hwy', '26'),\n",
       "              ('fl', 'p'),\n",
       "              ('class', 'midsize')]),\n",
       " OrderedDict([('', '148'),\n",
       "              ('manufacturer', 'nissan'),\n",
       "              ('model', 'maxima'),\n",
       "              ('displ', '3'),\n",
       "              ('year', '1999'),\n",
       "              ('cyl', '6'),\n",
       "              ('trans', 'auto(l4)'),\n",
       "              ('drv', 'f'),\n",
       "              ('cty', '18'),\n",
       "              ('hwy', '26'),\n",
       "              ('fl', 'r'),\n",
       "              ('class', 'midsize')]),\n",
       " OrderedDict([('', '149'),\n",
       "              ('manufacturer', 'nissan'),\n",
       "              ('model', 'maxima'),\n",
       "              ('displ', '3'),\n",
       "              ('year', '1999'),\n",
       "              ('cyl', '6'),\n",
       "              ('trans', 'manual(m5)'),\n",
       "              ('drv', 'f'),\n",
       "              ('cty', '19'),\n",
       "              ('hwy', '25'),\n",
       "              ('fl', 'r'),\n",
       "              ('class', 'midsize')]),\n",
       " OrderedDict([('', '150'),\n",
       "              ('manufacturer', 'nissan'),\n",
       "              ('model', 'maxima'),\n",
       "              ('displ', '3.5'),\n",
       "              ('year', '2008'),\n",
       "              ('cyl', '6'),\n",
       "              ('trans', 'auto(av)'),\n",
       "              ('drv', 'f'),\n",
       "              ('cty', '19'),\n",
       "              ('hwy', '25'),\n",
       "              ('fl', 'p'),\n",
       "              ('class', 'midsize')]),\n",
       " OrderedDict([('', '151'),\n",
       "              ('manufacturer', 'nissan'),\n",
       "              ('model', 'pathfinder 4wd'),\n",
       "              ('displ', '3.3'),\n",
       "              ('year', '1999'),\n",
       "              ('cyl', '6'),\n",
       "              ('trans', 'auto(l4)'),\n",
       "              ('drv', '4'),\n",
       "              ('cty', '14'),\n",
       "              ('hwy', '17'),\n",
       "              ('fl', 'r'),\n",
       "              ('class', 'suv')]),\n",
       " OrderedDict([('', '152'),\n",
       "              ('manufacturer', 'nissan'),\n",
       "              ('model', 'pathfinder 4wd'),\n",
       "              ('displ', '3.3'),\n",
       "              ('year', '1999'),\n",
       "              ('cyl', '6'),\n",
       "              ('trans', 'manual(m5)'),\n",
       "              ('drv', '4'),\n",
       "              ('cty', '15'),\n",
       "              ('hwy', '17'),\n",
       "              ('fl', 'r'),\n",
       "              ('class', 'suv')]),\n",
       " OrderedDict([('', '153'),\n",
       "              ('manufacturer', 'nissan'),\n",
       "              ('model', 'pathfinder 4wd'),\n",
       "              ('displ', '4'),\n",
       "              ('year', '2008'),\n",
       "              ('cyl', '6'),\n",
       "              ('trans', 'auto(l5)'),\n",
       "              ('drv', '4'),\n",
       "              ('cty', '14'),\n",
       "              ('hwy', '20'),\n",
       "              ('fl', 'p'),\n",
       "              ('class', 'suv')]),\n",
       " OrderedDict([('', '154'),\n",
       "              ('manufacturer', 'nissan'),\n",
       "              ('model', 'pathfinder 4wd'),\n",
       "              ('displ', '5.6'),\n",
       "              ('year', '2008'),\n",
       "              ('cyl', '8'),\n",
       "              ('trans', 'auto(s5)'),\n",
       "              ('drv', '4'),\n",
       "              ('cty', '12'),\n",
       "              ('hwy', '18'),\n",
       "              ('fl', 'p'),\n",
       "              ('class', 'suv')]),\n",
       " OrderedDict([('', '155'),\n",
       "              ('manufacturer', 'pontiac'),\n",
       "              ('model', 'grand prix'),\n",
       "              ('displ', '3.1'),\n",
       "              ('year', '1999'),\n",
       "              ('cyl', '6'),\n",
       "              ('trans', 'auto(l4)'),\n",
       "              ('drv', 'f'),\n",
       "              ('cty', '18'),\n",
       "              ('hwy', '26'),\n",
       "              ('fl', 'r'),\n",
       "              ('class', 'midsize')]),\n",
       " OrderedDict([('', '156'),\n",
       "              ('manufacturer', 'pontiac'),\n",
       "              ('model', 'grand prix'),\n",
       "              ('displ', '3.8'),\n",
       "              ('year', '1999'),\n",
       "              ('cyl', '6'),\n",
       "              ('trans', 'auto(l4)'),\n",
       "              ('drv', 'f'),\n",
       "              ('cty', '16'),\n",
       "              ('hwy', '26'),\n",
       "              ('fl', 'p'),\n",
       "              ('class', 'midsize')]),\n",
       " OrderedDict([('', '157'),\n",
       "              ('manufacturer', 'pontiac'),\n",
       "              ('model', 'grand prix'),\n",
       "              ('displ', '3.8'),\n",
       "              ('year', '1999'),\n",
       "              ('cyl', '6'),\n",
       "              ('trans', 'auto(l4)'),\n",
       "              ('drv', 'f'),\n",
       "              ('cty', '17'),\n",
       "              ('hwy', '27'),\n",
       "              ('fl', 'r'),\n",
       "              ('class', 'midsize')]),\n",
       " OrderedDict([('', '158'),\n",
       "              ('manufacturer', 'pontiac'),\n",
       "              ('model', 'grand prix'),\n",
       "              ('displ', '3.8'),\n",
       "              ('year', '2008'),\n",
       "              ('cyl', '6'),\n",
       "              ('trans', 'auto(l4)'),\n",
       "              ('drv', 'f'),\n",
       "              ('cty', '18'),\n",
       "              ('hwy', '28'),\n",
       "              ('fl', 'r'),\n",
       "              ('class', 'midsize')]),\n",
       " OrderedDict([('', '159'),\n",
       "              ('manufacturer', 'pontiac'),\n",
       "              ('model', 'grand prix'),\n",
       "              ('displ', '5.3'),\n",
       "              ('year', '2008'),\n",
       "              ('cyl', '8'),\n",
       "              ('trans', 'auto(s4)'),\n",
       "              ('drv', 'f'),\n",
       "              ('cty', '16'),\n",
       "              ('hwy', '25'),\n",
       "              ('fl', 'p'),\n",
       "              ('class', 'midsize')]),\n",
       " OrderedDict([('', '160'),\n",
       "              ('manufacturer', 'subaru'),\n",
       "              ('model', 'forester awd'),\n",
       "              ('displ', '2.5'),\n",
       "              ('year', '1999'),\n",
       "              ('cyl', '4'),\n",
       "              ('trans', 'manual(m5)'),\n",
       "              ('drv', '4'),\n",
       "              ('cty', '18'),\n",
       "              ('hwy', '25'),\n",
       "              ('fl', 'r'),\n",
       "              ('class', 'suv')]),\n",
       " OrderedDict([('', '161'),\n",
       "              ('manufacturer', 'subaru'),\n",
       "              ('model', 'forester awd'),\n",
       "              ('displ', '2.5'),\n",
       "              ('year', '1999'),\n",
       "              ('cyl', '4'),\n",
       "              ('trans', 'auto(l4)'),\n",
       "              ('drv', '4'),\n",
       "              ('cty', '18'),\n",
       "              ('hwy', '24'),\n",
       "              ('fl', 'r'),\n",
       "              ('class', 'suv')]),\n",
       " OrderedDict([('', '162'),\n",
       "              ('manufacturer', 'subaru'),\n",
       "              ('model', 'forester awd'),\n",
       "              ('displ', '2.5'),\n",
       "              ('year', '2008'),\n",
       "              ('cyl', '4'),\n",
       "              ('trans', 'manual(m5)'),\n",
       "              ('drv', '4'),\n",
       "              ('cty', '20'),\n",
       "              ('hwy', '27'),\n",
       "              ('fl', 'r'),\n",
       "              ('class', 'suv')]),\n",
       " OrderedDict([('', '163'),\n",
       "              ('manufacturer', 'subaru'),\n",
       "              ('model', 'forester awd'),\n",
       "              ('displ', '2.5'),\n",
       "              ('year', '2008'),\n",
       "              ('cyl', '4'),\n",
       "              ('trans', 'manual(m5)'),\n",
       "              ('drv', '4'),\n",
       "              ('cty', '19'),\n",
       "              ('hwy', '25'),\n",
       "              ('fl', 'p'),\n",
       "              ('class', 'suv')]),\n",
       " OrderedDict([('', '164'),\n",
       "              ('manufacturer', 'subaru'),\n",
       "              ('model', 'forester awd'),\n",
       "              ('displ', '2.5'),\n",
       "              ('year', '2008'),\n",
       "              ('cyl', '4'),\n",
       "              ('trans', 'auto(l4)'),\n",
       "              ('drv', '4'),\n",
       "              ('cty', '20'),\n",
       "              ('hwy', '26'),\n",
       "              ('fl', 'r'),\n",
       "              ('class', 'suv')]),\n",
       " OrderedDict([('', '165'),\n",
       "              ('manufacturer', 'subaru'),\n",
       "              ('model', 'forester awd'),\n",
       "              ('displ', '2.5'),\n",
       "              ('year', '2008'),\n",
       "              ('cyl', '4'),\n",
       "              ('trans', 'auto(l4)'),\n",
       "              ('drv', '4'),\n",
       "              ('cty', '18'),\n",
       "              ('hwy', '23'),\n",
       "              ('fl', 'p'),\n",
       "              ('class', 'suv')]),\n",
       " OrderedDict([('', '166'),\n",
       "              ('manufacturer', 'subaru'),\n",
       "              ('model', 'impreza awd'),\n",
       "              ('displ', '2.2'),\n",
       "              ('year', '1999'),\n",
       "              ('cyl', '4'),\n",
       "              ('trans', 'auto(l4)'),\n",
       "              ('drv', '4'),\n",
       "              ('cty', '21'),\n",
       "              ('hwy', '26'),\n",
       "              ('fl', 'r'),\n",
       "              ('class', 'subcompact')]),\n",
       " OrderedDict([('', '167'),\n",
       "              ('manufacturer', 'subaru'),\n",
       "              ('model', 'impreza awd'),\n",
       "              ('displ', '2.2'),\n",
       "              ('year', '1999'),\n",
       "              ('cyl', '4'),\n",
       "              ('trans', 'manual(m5)'),\n",
       "              ('drv', '4'),\n",
       "              ('cty', '19'),\n",
       "              ('hwy', '26'),\n",
       "              ('fl', 'r'),\n",
       "              ('class', 'subcompact')]),\n",
       " OrderedDict([('', '168'),\n",
       "              ('manufacturer', 'subaru'),\n",
       "              ('model', 'impreza awd'),\n",
       "              ('displ', '2.5'),\n",
       "              ('year', '1999'),\n",
       "              ('cyl', '4'),\n",
       "              ('trans', 'manual(m5)'),\n",
       "              ('drv', '4'),\n",
       "              ('cty', '19'),\n",
       "              ('hwy', '26'),\n",
       "              ('fl', 'r'),\n",
       "              ('class', 'subcompact')]),\n",
       " OrderedDict([('', '169'),\n",
       "              ('manufacturer', 'subaru'),\n",
       "              ('model', 'impreza awd'),\n",
       "              ('displ', '2.5'),\n",
       "              ('year', '1999'),\n",
       "              ('cyl', '4'),\n",
       "              ('trans', 'auto(l4)'),\n",
       "              ('drv', '4'),\n",
       "              ('cty', '19'),\n",
       "              ('hwy', '26'),\n",
       "              ('fl', 'r'),\n",
       "              ('class', 'subcompact')]),\n",
       " OrderedDict([('', '170'),\n",
       "              ('manufacturer', 'subaru'),\n",
       "              ('model', 'impreza awd'),\n",
       "              ('displ', '2.5'),\n",
       "              ('year', '2008'),\n",
       "              ('cyl', '4'),\n",
       "              ('trans', 'auto(s4)'),\n",
       "              ('drv', '4'),\n",
       "              ('cty', '20'),\n",
       "              ('hwy', '25'),\n",
       "              ('fl', 'p'),\n",
       "              ('class', 'compact')]),\n",
       " OrderedDict([('', '171'),\n",
       "              ('manufacturer', 'subaru'),\n",
       "              ('model', 'impreza awd'),\n",
       "              ('displ', '2.5'),\n",
       "              ('year', '2008'),\n",
       "              ('cyl', '4'),\n",
       "              ('trans', 'auto(s4)'),\n",
       "              ('drv', '4'),\n",
       "              ('cty', '20'),\n",
       "              ('hwy', '27'),\n",
       "              ('fl', 'r'),\n",
       "              ('class', 'compact')]),\n",
       " OrderedDict([('', '172'),\n",
       "              ('manufacturer', 'subaru'),\n",
       "              ('model', 'impreza awd'),\n",
       "              ('displ', '2.5'),\n",
       "              ('year', '2008'),\n",
       "              ('cyl', '4'),\n",
       "              ('trans', 'manual(m5)'),\n",
       "              ('drv', '4'),\n",
       "              ('cty', '19'),\n",
       "              ('hwy', '25'),\n",
       "              ('fl', 'p'),\n",
       "              ('class', 'compact')]),\n",
       " OrderedDict([('', '173'),\n",
       "              ('manufacturer', 'subaru'),\n",
       "              ('model', 'impreza awd'),\n",
       "              ('displ', '2.5'),\n",
       "              ('year', '2008'),\n",
       "              ('cyl', '4'),\n",
       "              ('trans', 'manual(m5)'),\n",
       "              ('drv', '4'),\n",
       "              ('cty', '20'),\n",
       "              ('hwy', '27'),\n",
       "              ('fl', 'r'),\n",
       "              ('class', 'compact')]),\n",
       " OrderedDict([('', '174'),\n",
       "              ('manufacturer', 'toyota'),\n",
       "              ('model', '4runner 4wd'),\n",
       "              ('displ', '2.7'),\n",
       "              ('year', '1999'),\n",
       "              ('cyl', '4'),\n",
       "              ('trans', 'manual(m5)'),\n",
       "              ('drv', '4'),\n",
       "              ('cty', '15'),\n",
       "              ('hwy', '20'),\n",
       "              ('fl', 'r'),\n",
       "              ('class', 'suv')]),\n",
       " OrderedDict([('', '175'),\n",
       "              ('manufacturer', 'toyota'),\n",
       "              ('model', '4runner 4wd'),\n",
       "              ('displ', '2.7'),\n",
       "              ('year', '1999'),\n",
       "              ('cyl', '4'),\n",
       "              ('trans', 'auto(l4)'),\n",
       "              ('drv', '4'),\n",
       "              ('cty', '16'),\n",
       "              ('hwy', '20'),\n",
       "              ('fl', 'r'),\n",
       "              ('class', 'suv')]),\n",
       " OrderedDict([('', '176'),\n",
       "              ('manufacturer', 'toyota'),\n",
       "              ('model', '4runner 4wd'),\n",
       "              ('displ', '3.4'),\n",
       "              ('year', '1999'),\n",
       "              ('cyl', '6'),\n",
       "              ('trans', 'auto(l4)'),\n",
       "              ('drv', '4'),\n",
       "              ('cty', '15'),\n",
       "              ('hwy', '19'),\n",
       "              ('fl', 'r'),\n",
       "              ('class', 'suv')]),\n",
       " OrderedDict([('', '177'),\n",
       "              ('manufacturer', 'toyota'),\n",
       "              ('model', '4runner 4wd'),\n",
       "              ('displ', '3.4'),\n",
       "              ('year', '1999'),\n",
       "              ('cyl', '6'),\n",
       "              ('trans', 'manual(m5)'),\n",
       "              ('drv', '4'),\n",
       "              ('cty', '15'),\n",
       "              ('hwy', '17'),\n",
       "              ('fl', 'r'),\n",
       "              ('class', 'suv')]),\n",
       " OrderedDict([('', '178'),\n",
       "              ('manufacturer', 'toyota'),\n",
       "              ('model', '4runner 4wd'),\n",
       "              ('displ', '4'),\n",
       "              ('year', '2008'),\n",
       "              ('cyl', '6'),\n",
       "              ('trans', 'auto(l5)'),\n",
       "              ('drv', '4'),\n",
       "              ('cty', '16'),\n",
       "              ('hwy', '20'),\n",
       "              ('fl', 'r'),\n",
       "              ('class', 'suv')]),\n",
       " OrderedDict([('', '179'),\n",
       "              ('manufacturer', 'toyota'),\n",
       "              ('model', '4runner 4wd'),\n",
       "              ('displ', '4.7'),\n",
       "              ('year', '2008'),\n",
       "              ('cyl', '8'),\n",
       "              ('trans', 'auto(l5)'),\n",
       "              ('drv', '4'),\n",
       "              ('cty', '14'),\n",
       "              ('hwy', '17'),\n",
       "              ('fl', 'r'),\n",
       "              ('class', 'suv')]),\n",
       " OrderedDict([('', '180'),\n",
       "              ('manufacturer', 'toyota'),\n",
       "              ('model', 'camry'),\n",
       "              ('displ', '2.2'),\n",
       "              ('year', '1999'),\n",
       "              ('cyl', '4'),\n",
       "              ('trans', 'manual(m5)'),\n",
       "              ('drv', 'f'),\n",
       "              ('cty', '21'),\n",
       "              ('hwy', '29'),\n",
       "              ('fl', 'r'),\n",
       "              ('class', 'midsize')]),\n",
       " OrderedDict([('', '181'),\n",
       "              ('manufacturer', 'toyota'),\n",
       "              ('model', 'camry'),\n",
       "              ('displ', '2.2'),\n",
       "              ('year', '1999'),\n",
       "              ('cyl', '4'),\n",
       "              ('trans', 'auto(l4)'),\n",
       "              ('drv', 'f'),\n",
       "              ('cty', '21'),\n",
       "              ('hwy', '27'),\n",
       "              ('fl', 'r'),\n",
       "              ('class', 'midsize')]),\n",
       " OrderedDict([('', '182'),\n",
       "              ('manufacturer', 'toyota'),\n",
       "              ('model', 'camry'),\n",
       "              ('displ', '2.4'),\n",
       "              ('year', '2008'),\n",
       "              ('cyl', '4'),\n",
       "              ('trans', 'manual(m5)'),\n",
       "              ('drv', 'f'),\n",
       "              ('cty', '21'),\n",
       "              ('hwy', '31'),\n",
       "              ('fl', 'r'),\n",
       "              ('class', 'midsize')]),\n",
       " OrderedDict([('', '183'),\n",
       "              ('manufacturer', 'toyota'),\n",
       "              ('model', 'camry'),\n",
       "              ('displ', '2.4'),\n",
       "              ('year', '2008'),\n",
       "              ('cyl', '4'),\n",
       "              ('trans', 'auto(l5)'),\n",
       "              ('drv', 'f'),\n",
       "              ('cty', '21'),\n",
       "              ('hwy', '31'),\n",
       "              ('fl', 'r'),\n",
       "              ('class', 'midsize')]),\n",
       " OrderedDict([('', '184'),\n",
       "              ('manufacturer', 'toyota'),\n",
       "              ('model', 'camry'),\n",
       "              ('displ', '3'),\n",
       "              ('year', '1999'),\n",
       "              ('cyl', '6'),\n",
       "              ('trans', 'auto(l4)'),\n",
       "              ('drv', 'f'),\n",
       "              ('cty', '18'),\n",
       "              ('hwy', '26'),\n",
       "              ('fl', 'r'),\n",
       "              ('class', 'midsize')]),\n",
       " OrderedDict([('', '185'),\n",
       "              ('manufacturer', 'toyota'),\n",
       "              ('model', 'camry'),\n",
       "              ('displ', '3'),\n",
       "              ('year', '1999'),\n",
       "              ('cyl', '6'),\n",
       "              ('trans', 'manual(m5)'),\n",
       "              ('drv', 'f'),\n",
       "              ('cty', '18'),\n",
       "              ('hwy', '26'),\n",
       "              ('fl', 'r'),\n",
       "              ('class', 'midsize')]),\n",
       " OrderedDict([('', '186'),\n",
       "              ('manufacturer', 'toyota'),\n",
       "              ('model', 'camry'),\n",
       "              ('displ', '3.5'),\n",
       "              ('year', '2008'),\n",
       "              ('cyl', '6'),\n",
       "              ('trans', 'auto(s6)'),\n",
       "              ('drv', 'f'),\n",
       "              ('cty', '19'),\n",
       "              ('hwy', '28'),\n",
       "              ('fl', 'r'),\n",
       "              ('class', 'midsize')]),\n",
       " OrderedDict([('', '187'),\n",
       "              ('manufacturer', 'toyota'),\n",
       "              ('model', 'camry solara'),\n",
       "              ('displ', '2.2'),\n",
       "              ('year', '1999'),\n",
       "              ('cyl', '4'),\n",
       "              ('trans', 'auto(l4)'),\n",
       "              ('drv', 'f'),\n",
       "              ('cty', '21'),\n",
       "              ('hwy', '27'),\n",
       "              ('fl', 'r'),\n",
       "              ('class', 'compact')]),\n",
       " OrderedDict([('', '188'),\n",
       "              ('manufacturer', 'toyota'),\n",
       "              ('model', 'camry solara'),\n",
       "              ('displ', '2.2'),\n",
       "              ('year', '1999'),\n",
       "              ('cyl', '4'),\n",
       "              ('trans', 'manual(m5)'),\n",
       "              ('drv', 'f'),\n",
       "              ('cty', '21'),\n",
       "              ('hwy', '29'),\n",
       "              ('fl', 'r'),\n",
       "              ('class', 'compact')]),\n",
       " OrderedDict([('', '189'),\n",
       "              ('manufacturer', 'toyota'),\n",
       "              ('model', 'camry solara'),\n",
       "              ('displ', '2.4'),\n",
       "              ('year', '2008'),\n",
       "              ('cyl', '4'),\n",
       "              ('trans', 'manual(m5)'),\n",
       "              ('drv', 'f'),\n",
       "              ('cty', '21'),\n",
       "              ('hwy', '31'),\n",
       "              ('fl', 'r'),\n",
       "              ('class', 'compact')]),\n",
       " OrderedDict([('', '190'),\n",
       "              ('manufacturer', 'toyota'),\n",
       "              ('model', 'camry solara'),\n",
       "              ('displ', '2.4'),\n",
       "              ('year', '2008'),\n",
       "              ('cyl', '4'),\n",
       "              ('trans', 'auto(s5)'),\n",
       "              ('drv', 'f'),\n",
       "              ('cty', '22'),\n",
       "              ('hwy', '31'),\n",
       "              ('fl', 'r'),\n",
       "              ('class', 'compact')]),\n",
       " OrderedDict([('', '191'),\n",
       "              ('manufacturer', 'toyota'),\n",
       "              ('model', 'camry solara'),\n",
       "              ('displ', '3'),\n",
       "              ('year', '1999'),\n",
       "              ('cyl', '6'),\n",
       "              ('trans', 'auto(l4)'),\n",
       "              ('drv', 'f'),\n",
       "              ('cty', '18'),\n",
       "              ('hwy', '26'),\n",
       "              ('fl', 'r'),\n",
       "              ('class', 'compact')]),\n",
       " OrderedDict([('', '192'),\n",
       "              ('manufacturer', 'toyota'),\n",
       "              ('model', 'camry solara'),\n",
       "              ('displ', '3'),\n",
       "              ('year', '1999'),\n",
       "              ('cyl', '6'),\n",
       "              ('trans', 'manual(m5)'),\n",
       "              ('drv', 'f'),\n",
       "              ('cty', '18'),\n",
       "              ('hwy', '26'),\n",
       "              ('fl', 'r'),\n",
       "              ('class', 'compact')]),\n",
       " OrderedDict([('', '193'),\n",
       "              ('manufacturer', 'toyota'),\n",
       "              ('model', 'camry solara'),\n",
       "              ('displ', '3.3'),\n",
       "              ('year', '2008'),\n",
       "              ('cyl', '6'),\n",
       "              ('trans', 'auto(s5)'),\n",
       "              ('drv', 'f'),\n",
       "              ('cty', '18'),\n",
       "              ('hwy', '27'),\n",
       "              ('fl', 'r'),\n",
       "              ('class', 'compact')]),\n",
       " OrderedDict([('', '194'),\n",
       "              ('manufacturer', 'toyota'),\n",
       "              ('model', 'corolla'),\n",
       "              ('displ', '1.8'),\n",
       "              ('year', '1999'),\n",
       "              ('cyl', '4'),\n",
       "              ('trans', 'auto(l3)'),\n",
       "              ('drv', 'f'),\n",
       "              ('cty', '24'),\n",
       "              ('hwy', '30'),\n",
       "              ('fl', 'r'),\n",
       "              ('class', 'compact')]),\n",
       " OrderedDict([('', '195'),\n",
       "              ('manufacturer', 'toyota'),\n",
       "              ('model', 'corolla'),\n",
       "              ('displ', '1.8'),\n",
       "              ('year', '1999'),\n",
       "              ('cyl', '4'),\n",
       "              ('trans', 'auto(l4)'),\n",
       "              ('drv', 'f'),\n",
       "              ('cty', '24'),\n",
       "              ('hwy', '33'),\n",
       "              ('fl', 'r'),\n",
       "              ('class', 'compact')]),\n",
       " OrderedDict([('', '196'),\n",
       "              ('manufacturer', 'toyota'),\n",
       "              ('model', 'corolla'),\n",
       "              ('displ', '1.8'),\n",
       "              ('year', '1999'),\n",
       "              ('cyl', '4'),\n",
       "              ('trans', 'manual(m5)'),\n",
       "              ('drv', 'f'),\n",
       "              ('cty', '26'),\n",
       "              ('hwy', '35'),\n",
       "              ('fl', 'r'),\n",
       "              ('class', 'compact')]),\n",
       " OrderedDict([('', '197'),\n",
       "              ('manufacturer', 'toyota'),\n",
       "              ('model', 'corolla'),\n",
       "              ('displ', '1.8'),\n",
       "              ('year', '2008'),\n",
       "              ('cyl', '4'),\n",
       "              ('trans', 'manual(m5)'),\n",
       "              ('drv', 'f'),\n",
       "              ('cty', '28'),\n",
       "              ('hwy', '37'),\n",
       "              ('fl', 'r'),\n",
       "              ('class', 'compact')]),\n",
       " OrderedDict([('', '198'),\n",
       "              ('manufacturer', 'toyota'),\n",
       "              ('model', 'corolla'),\n",
       "              ('displ', '1.8'),\n",
       "              ('year', '2008'),\n",
       "              ('cyl', '4'),\n",
       "              ('trans', 'auto(l4)'),\n",
       "              ('drv', 'f'),\n",
       "              ('cty', '26'),\n",
       "              ('hwy', '35'),\n",
       "              ('fl', 'r'),\n",
       "              ('class', 'compact')]),\n",
       " OrderedDict([('', '199'),\n",
       "              ('manufacturer', 'toyota'),\n",
       "              ('model', 'land cruiser wagon 4wd'),\n",
       "              ('displ', '4.7'),\n",
       "              ('year', '1999'),\n",
       "              ('cyl', '8'),\n",
       "              ('trans', 'auto(l4)'),\n",
       "              ('drv', '4'),\n",
       "              ('cty', '11'),\n",
       "              ('hwy', '15'),\n",
       "              ('fl', 'r'),\n",
       "              ('class', 'suv')]),\n",
       " OrderedDict([('', '200'),\n",
       "              ('manufacturer', 'toyota'),\n",
       "              ('model', 'land cruiser wagon 4wd'),\n",
       "              ('displ', '5.7'),\n",
       "              ('year', '2008'),\n",
       "              ('cyl', '8'),\n",
       "              ('trans', 'auto(s6)'),\n",
       "              ('drv', '4'),\n",
       "              ('cty', '13'),\n",
       "              ('hwy', '18'),\n",
       "              ('fl', 'r'),\n",
       "              ('class', 'suv')]),\n",
       " OrderedDict([('', '201'),\n",
       "              ('manufacturer', 'toyota'),\n",
       "              ('model', 'toyota tacoma 4wd'),\n",
       "              ('displ', '2.7'),\n",
       "              ('year', '1999'),\n",
       "              ('cyl', '4'),\n",
       "              ('trans', 'manual(m5)'),\n",
       "              ('drv', '4'),\n",
       "              ('cty', '15'),\n",
       "              ('hwy', '20'),\n",
       "              ('fl', 'r'),\n",
       "              ('class', 'pickup')]),\n",
       " OrderedDict([('', '202'),\n",
       "              ('manufacturer', 'toyota'),\n",
       "              ('model', 'toyota tacoma 4wd'),\n",
       "              ('displ', '2.7'),\n",
       "              ('year', '1999'),\n",
       "              ('cyl', '4'),\n",
       "              ('trans', 'auto(l4)'),\n",
       "              ('drv', '4'),\n",
       "              ('cty', '16'),\n",
       "              ('hwy', '20'),\n",
       "              ('fl', 'r'),\n",
       "              ('class', 'pickup')]),\n",
       " OrderedDict([('', '203'),\n",
       "              ('manufacturer', 'toyota'),\n",
       "              ('model', 'toyota tacoma 4wd'),\n",
       "              ('displ', '2.7'),\n",
       "              ('year', '2008'),\n",
       "              ('cyl', '4'),\n",
       "              ('trans', 'manual(m5)'),\n",
       "              ('drv', '4'),\n",
       "              ('cty', '17'),\n",
       "              ('hwy', '22'),\n",
       "              ('fl', 'r'),\n",
       "              ('class', 'pickup')]),\n",
       " OrderedDict([('', '204'),\n",
       "              ('manufacturer', 'toyota'),\n",
       "              ('model', 'toyota tacoma 4wd'),\n",
       "              ('displ', '3.4'),\n",
       "              ('year', '1999'),\n",
       "              ('cyl', '6'),\n",
       "              ('trans', 'manual(m5)'),\n",
       "              ('drv', '4'),\n",
       "              ('cty', '15'),\n",
       "              ('hwy', '17'),\n",
       "              ('fl', 'r'),\n",
       "              ('class', 'pickup')]),\n",
       " OrderedDict([('', '205'),\n",
       "              ('manufacturer', 'toyota'),\n",
       "              ('model', 'toyota tacoma 4wd'),\n",
       "              ('displ', '3.4'),\n",
       "              ('year', '1999'),\n",
       "              ('cyl', '6'),\n",
       "              ('trans', 'auto(l4)'),\n",
       "              ('drv', '4'),\n",
       "              ('cty', '15'),\n",
       "              ('hwy', '19'),\n",
       "              ('fl', 'r'),\n",
       "              ('class', 'pickup')]),\n",
       " OrderedDict([('', '206'),\n",
       "              ('manufacturer', 'toyota'),\n",
       "              ('model', 'toyota tacoma 4wd'),\n",
       "              ('displ', '4'),\n",
       "              ('year', '2008'),\n",
       "              ('cyl', '6'),\n",
       "              ('trans', 'manual(m6)'),\n",
       "              ('drv', '4'),\n",
       "              ('cty', '15'),\n",
       "              ('hwy', '18'),\n",
       "              ('fl', 'r'),\n",
       "              ('class', 'pickup')]),\n",
       " OrderedDict([('', '207'),\n",
       "              ('manufacturer', 'toyota'),\n",
       "              ('model', 'toyota tacoma 4wd'),\n",
       "              ('displ', '4'),\n",
       "              ('year', '2008'),\n",
       "              ('cyl', '6'),\n",
       "              ('trans', 'auto(l5)'),\n",
       "              ('drv', '4'),\n",
       "              ('cty', '16'),\n",
       "              ('hwy', '20'),\n",
       "              ('fl', 'r'),\n",
       "              ('class', 'pickup')]),\n",
       " OrderedDict([('', '208'),\n",
       "              ('manufacturer', 'volkswagen'),\n",
       "              ('model', 'gti'),\n",
       "              ('displ', '2'),\n",
       "              ('year', '1999'),\n",
       "              ('cyl', '4'),\n",
       "              ('trans', 'manual(m5)'),\n",
       "              ('drv', 'f'),\n",
       "              ('cty', '21'),\n",
       "              ('hwy', '29'),\n",
       "              ('fl', 'r'),\n",
       "              ('class', 'compact')]),\n",
       " OrderedDict([('', '209'),\n",
       "              ('manufacturer', 'volkswagen'),\n",
       "              ('model', 'gti'),\n",
       "              ('displ', '2'),\n",
       "              ('year', '1999'),\n",
       "              ('cyl', '4'),\n",
       "              ('trans', 'auto(l4)'),\n",
       "              ('drv', 'f'),\n",
       "              ('cty', '19'),\n",
       "              ('hwy', '26'),\n",
       "              ('fl', 'r'),\n",
       "              ('class', 'compact')]),\n",
       " OrderedDict([('', '210'),\n",
       "              ('manufacturer', 'volkswagen'),\n",
       "              ('model', 'gti'),\n",
       "              ('displ', '2'),\n",
       "              ('year', '2008'),\n",
       "              ('cyl', '4'),\n",
       "              ('trans', 'manual(m6)'),\n",
       "              ('drv', 'f'),\n",
       "              ('cty', '21'),\n",
       "              ('hwy', '29'),\n",
       "              ('fl', 'p'),\n",
       "              ('class', 'compact')]),\n",
       " OrderedDict([('', '211'),\n",
       "              ('manufacturer', 'volkswagen'),\n",
       "              ('model', 'gti'),\n",
       "              ('displ', '2'),\n",
       "              ('year', '2008'),\n",
       "              ('cyl', '4'),\n",
       "              ('trans', 'auto(s6)'),\n",
       "              ('drv', 'f'),\n",
       "              ('cty', '22'),\n",
       "              ('hwy', '29'),\n",
       "              ('fl', 'p'),\n",
       "              ('class', 'compact')]),\n",
       " OrderedDict([('', '212'),\n",
       "              ('manufacturer', 'volkswagen'),\n",
       "              ('model', 'gti'),\n",
       "              ('displ', '2.8'),\n",
       "              ('year', '1999'),\n",
       "              ('cyl', '6'),\n",
       "              ('trans', 'manual(m5)'),\n",
       "              ('drv', 'f'),\n",
       "              ('cty', '17'),\n",
       "              ('hwy', '24'),\n",
       "              ('fl', 'r'),\n",
       "              ('class', 'compact')]),\n",
       " OrderedDict([('', '213'),\n",
       "              ('manufacturer', 'volkswagen'),\n",
       "              ('model', 'jetta'),\n",
       "              ('displ', '1.9'),\n",
       "              ('year', '1999'),\n",
       "              ('cyl', '4'),\n",
       "              ('trans', 'manual(m5)'),\n",
       "              ('drv', 'f'),\n",
       "              ('cty', '33'),\n",
       "              ('hwy', '44'),\n",
       "              ('fl', 'd'),\n",
       "              ('class', 'compact')]),\n",
       " OrderedDict([('', '214'),\n",
       "              ('manufacturer', 'volkswagen'),\n",
       "              ('model', 'jetta'),\n",
       "              ('displ', '2'),\n",
       "              ('year', '1999'),\n",
       "              ('cyl', '4'),\n",
       "              ('trans', 'manual(m5)'),\n",
       "              ('drv', 'f'),\n",
       "              ('cty', '21'),\n",
       "              ('hwy', '29'),\n",
       "              ('fl', 'r'),\n",
       "              ('class', 'compact')]),\n",
       " OrderedDict([('', '215'),\n",
       "              ('manufacturer', 'volkswagen'),\n",
       "              ('model', 'jetta'),\n",
       "              ('displ', '2'),\n",
       "              ('year', '1999'),\n",
       "              ('cyl', '4'),\n",
       "              ('trans', 'auto(l4)'),\n",
       "              ('drv', 'f'),\n",
       "              ('cty', '19'),\n",
       "              ('hwy', '26'),\n",
       "              ('fl', 'r'),\n",
       "              ('class', 'compact')]),\n",
       " OrderedDict([('', '216'),\n",
       "              ('manufacturer', 'volkswagen'),\n",
       "              ('model', 'jetta'),\n",
       "              ('displ', '2'),\n",
       "              ('year', '2008'),\n",
       "              ('cyl', '4'),\n",
       "              ('trans', 'auto(s6)'),\n",
       "              ('drv', 'f'),\n",
       "              ('cty', '22'),\n",
       "              ('hwy', '29'),\n",
       "              ('fl', 'p'),\n",
       "              ('class', 'compact')]),\n",
       " OrderedDict([('', '217'),\n",
       "              ('manufacturer', 'volkswagen'),\n",
       "              ('model', 'jetta'),\n",
       "              ('displ', '2'),\n",
       "              ('year', '2008'),\n",
       "              ('cyl', '4'),\n",
       "              ('trans', 'manual(m6)'),\n",
       "              ('drv', 'f'),\n",
       "              ('cty', '21'),\n",
       "              ('hwy', '29'),\n",
       "              ('fl', 'p'),\n",
       "              ('class', 'compact')]),\n",
       " OrderedDict([('', '218'),\n",
       "              ('manufacturer', 'volkswagen'),\n",
       "              ('model', 'jetta'),\n",
       "              ('displ', '2.5'),\n",
       "              ('year', '2008'),\n",
       "              ('cyl', '5'),\n",
       "              ('trans', 'auto(s6)'),\n",
       "              ('drv', 'f'),\n",
       "              ('cty', '21'),\n",
       "              ('hwy', '29'),\n",
       "              ('fl', 'r'),\n",
       "              ('class', 'compact')]),\n",
       " OrderedDict([('', '219'),\n",
       "              ('manufacturer', 'volkswagen'),\n",
       "              ('model', 'jetta'),\n",
       "              ('displ', '2.5'),\n",
       "              ('year', '2008'),\n",
       "              ('cyl', '5'),\n",
       "              ('trans', 'manual(m5)'),\n",
       "              ('drv', 'f'),\n",
       "              ('cty', '21'),\n",
       "              ('hwy', '29'),\n",
       "              ('fl', 'r'),\n",
       "              ('class', 'compact')]),\n",
       " OrderedDict([('', '220'),\n",
       "              ('manufacturer', 'volkswagen'),\n",
       "              ('model', 'jetta'),\n",
       "              ('displ', '2.8'),\n",
       "              ('year', '1999'),\n",
       "              ('cyl', '6'),\n",
       "              ('trans', 'auto(l4)'),\n",
       "              ('drv', 'f'),\n",
       "              ('cty', '16'),\n",
       "              ('hwy', '23'),\n",
       "              ('fl', 'r'),\n",
       "              ('class', 'compact')]),\n",
       " OrderedDict([('', '221'),\n",
       "              ('manufacturer', 'volkswagen'),\n",
       "              ('model', 'jetta'),\n",
       "              ('displ', '2.8'),\n",
       "              ('year', '1999'),\n",
       "              ('cyl', '6'),\n",
       "              ('trans', 'manual(m5)'),\n",
       "              ('drv', 'f'),\n",
       "              ('cty', '17'),\n",
       "              ('hwy', '24'),\n",
       "              ('fl', 'r'),\n",
       "              ('class', 'compact')]),\n",
       " OrderedDict([('', '222'),\n",
       "              ('manufacturer', 'volkswagen'),\n",
       "              ('model', 'new beetle'),\n",
       "              ('displ', '1.9'),\n",
       "              ('year', '1999'),\n",
       "              ('cyl', '4'),\n",
       "              ('trans', 'manual(m5)'),\n",
       "              ('drv', 'f'),\n",
       "              ('cty', '35'),\n",
       "              ('hwy', '44'),\n",
       "              ('fl', 'd'),\n",
       "              ('class', 'subcompact')]),\n",
       " OrderedDict([('', '223'),\n",
       "              ('manufacturer', 'volkswagen'),\n",
       "              ('model', 'new beetle'),\n",
       "              ('displ', '1.9'),\n",
       "              ('year', '1999'),\n",
       "              ('cyl', '4'),\n",
       "              ('trans', 'auto(l4)'),\n",
       "              ('drv', 'f'),\n",
       "              ('cty', '29'),\n",
       "              ('hwy', '41'),\n",
       "              ('fl', 'd'),\n",
       "              ('class', 'subcompact')]),\n",
       " OrderedDict([('', '224'),\n",
       "              ('manufacturer', 'volkswagen'),\n",
       "              ('model', 'new beetle'),\n",
       "              ('displ', '2'),\n",
       "              ('year', '1999'),\n",
       "              ('cyl', '4'),\n",
       "              ('trans', 'manual(m5)'),\n",
       "              ('drv', 'f'),\n",
       "              ('cty', '21'),\n",
       "              ('hwy', '29'),\n",
       "              ('fl', 'r'),\n",
       "              ('class', 'subcompact')]),\n",
       " OrderedDict([('', '225'),\n",
       "              ('manufacturer', 'volkswagen'),\n",
       "              ('model', 'new beetle'),\n",
       "              ('displ', '2'),\n",
       "              ('year', '1999'),\n",
       "              ('cyl', '4'),\n",
       "              ('trans', 'auto(l4)'),\n",
       "              ('drv', 'f'),\n",
       "              ('cty', '19'),\n",
       "              ('hwy', '26'),\n",
       "              ('fl', 'r'),\n",
       "              ('class', 'subcompact')]),\n",
       " OrderedDict([('', '226'),\n",
       "              ('manufacturer', 'volkswagen'),\n",
       "              ('model', 'new beetle'),\n",
       "              ('displ', '2.5'),\n",
       "              ('year', '2008'),\n",
       "              ('cyl', '5'),\n",
       "              ('trans', 'manual(m5)'),\n",
       "              ('drv', 'f'),\n",
       "              ('cty', '20'),\n",
       "              ('hwy', '28'),\n",
       "              ('fl', 'r'),\n",
       "              ('class', 'subcompact')]),\n",
       " OrderedDict([('', '227'),\n",
       "              ('manufacturer', 'volkswagen'),\n",
       "              ('model', 'new beetle'),\n",
       "              ('displ', '2.5'),\n",
       "              ('year', '2008'),\n",
       "              ('cyl', '5'),\n",
       "              ('trans', 'auto(s6)'),\n",
       "              ('drv', 'f'),\n",
       "              ('cty', '20'),\n",
       "              ('hwy', '29'),\n",
       "              ('fl', 'r'),\n",
       "              ('class', 'subcompact')]),\n",
       " OrderedDict([('', '228'),\n",
       "              ('manufacturer', 'volkswagen'),\n",
       "              ('model', 'passat'),\n",
       "              ('displ', '1.8'),\n",
       "              ('year', '1999'),\n",
       "              ('cyl', '4'),\n",
       "              ('trans', 'manual(m5)'),\n",
       "              ('drv', 'f'),\n",
       "              ('cty', '21'),\n",
       "              ('hwy', '29'),\n",
       "              ('fl', 'p'),\n",
       "              ('class', 'midsize')]),\n",
       " OrderedDict([('', '229'),\n",
       "              ('manufacturer', 'volkswagen'),\n",
       "              ('model', 'passat'),\n",
       "              ('displ', '1.8'),\n",
       "              ('year', '1999'),\n",
       "              ('cyl', '4'),\n",
       "              ('trans', 'auto(l5)'),\n",
       "              ('drv', 'f'),\n",
       "              ('cty', '18'),\n",
       "              ('hwy', '29'),\n",
       "              ('fl', 'p'),\n",
       "              ('class', 'midsize')]),\n",
       " OrderedDict([('', '230'),\n",
       "              ('manufacturer', 'volkswagen'),\n",
       "              ('model', 'passat'),\n",
       "              ('displ', '2'),\n",
       "              ('year', '2008'),\n",
       "              ('cyl', '4'),\n",
       "              ('trans', 'auto(s6)'),\n",
       "              ('drv', 'f'),\n",
       "              ('cty', '19'),\n",
       "              ('hwy', '28'),\n",
       "              ('fl', 'p'),\n",
       "              ('class', 'midsize')]),\n",
       " OrderedDict([('', '231'),\n",
       "              ('manufacturer', 'volkswagen'),\n",
       "              ('model', 'passat'),\n",
       "              ('displ', '2'),\n",
       "              ('year', '2008'),\n",
       "              ('cyl', '4'),\n",
       "              ('trans', 'manual(m6)'),\n",
       "              ('drv', 'f'),\n",
       "              ('cty', '21'),\n",
       "              ('hwy', '29'),\n",
       "              ('fl', 'p'),\n",
       "              ('class', 'midsize')]),\n",
       " OrderedDict([('', '232'),\n",
       "              ('manufacturer', 'volkswagen'),\n",
       "              ('model', 'passat'),\n",
       "              ('displ', '2.8'),\n",
       "              ('year', '1999'),\n",
       "              ('cyl', '6'),\n",
       "              ('trans', 'auto(l5)'),\n",
       "              ('drv', 'f'),\n",
       "              ('cty', '16'),\n",
       "              ('hwy', '26'),\n",
       "              ('fl', 'p'),\n",
       "              ('class', 'midsize')]),\n",
       " OrderedDict([('', '233'),\n",
       "              ('manufacturer', 'volkswagen'),\n",
       "              ('model', 'passat'),\n",
       "              ('displ', '2.8'),\n",
       "              ('year', '1999'),\n",
       "              ('cyl', '6'),\n",
       "              ('trans', 'manual(m5)'),\n",
       "              ('drv', 'f'),\n",
       "              ('cty', '18'),\n",
       "              ('hwy', '26'),\n",
       "              ('fl', 'p'),\n",
       "              ('class', 'midsize')]),\n",
       " OrderedDict([('', '234'),\n",
       "              ('manufacturer', 'volkswagen'),\n",
       "              ('model', 'passat'),\n",
       "              ('displ', '3.6'),\n",
       "              ('year', '2008'),\n",
       "              ('cyl', '6'),\n",
       "              ('trans', 'auto(s6)'),\n",
       "              ('drv', 'f'),\n",
       "              ('cty', '17'),\n",
       "              ('hwy', '26'),\n",
       "              ('fl', 'p'),\n",
       "              ('class', 'midsize')])]"
      ]
     },
     "execution_count": 38,
     "metadata": {},
     "output_type": "execute_result"
    }
   ],
   "source": [
    "import csv\n",
    "\n",
    "%precision 2\n",
    "\n",
    "with open('mpg.csv') as csvfile:\n",
    "    mpg = list(csv.DictReader(csvfile))\n",
    "    \n",
    "mpg # The first three dictionaries in our list."
   ]
  },
  {
   "cell_type": "code",
   "execution_count": 39,
   "metadata": {},
   "outputs": [
    {
     "data": {
      "text/plain": [
       "234"
      ]
     },
     "execution_count": 39,
     "metadata": {},
     "output_type": "execute_result"
    }
   ],
   "source": [
    "len(mpg)"
   ]
  },
  {
   "cell_type": "code",
   "execution_count": 40,
   "metadata": {},
   "outputs": [
    {
     "data": {
      "text/plain": [
       "odict_keys(['', 'manufacturer', 'model', 'displ', 'year', 'cyl', 'trans', 'drv', 'cty', 'hwy', 'fl', 'class'])"
      ]
     },
     "execution_count": 40,
     "metadata": {},
     "output_type": "execute_result"
    }
   ],
   "source": [
    "mpg[0].keys()"
   ]
  },
  {
   "cell_type": "code",
   "execution_count": 41,
   "metadata": {},
   "outputs": [
    {
     "data": {
      "text/plain": [
       "16.86"
      ]
     },
     "execution_count": 41,
     "metadata": {},
     "output_type": "execute_result"
    }
   ],
   "source": [
    "sum(float(d['cty']) for d in mpg) / len(mpg)"
   ]
  },
  {
   "cell_type": "code",
   "execution_count": 42,
   "metadata": {},
   "outputs": [
    {
     "data": {
      "text/plain": [
       "23.44"
      ]
     },
     "execution_count": 42,
     "metadata": {},
     "output_type": "execute_result"
    }
   ],
   "source": [
    "sum(float(d['hwy']) for d in mpg) / len(mpg)"
   ]
  },
  {
   "cell_type": "code",
   "execution_count": 43,
   "metadata": {},
   "outputs": [
    {
     "data": {
      "text/plain": [
       "{'4', '5', '6', '8'}"
      ]
     },
     "execution_count": 43,
     "metadata": {},
     "output_type": "execute_result"
    }
   ],
   "source": [
    "cylinders = set(d['cyl'] for d in mpg)\n",
    "cylinders"
   ]
  },
  {
   "cell_type": "code",
   "execution_count": 44,
   "metadata": {},
   "outputs": [
    {
     "data": {
      "text/plain": [
       "[('4', 21.01), ('5', 20.50), ('6', 16.22), ('8', 12.57)]"
      ]
     },
     "execution_count": 44,
     "metadata": {},
     "output_type": "execute_result"
    }
   ],
   "source": [
    "cityMpgByCycle = []\n",
    "# for every cyclinder in cylinders\n",
    "for cylinder in cylinders:\n",
    "    # reset sum\n",
    "    sumMpg = 0\n",
    "    # reset counter\n",
    "    cylinderCount = 0\n",
    "    # iterate over all dicts in mpg\n",
    "    for dicts in mpg:\n",
    "        # if cyclinder of dicts matches cyclinder in cyclinders\n",
    "        if dicts['cyl'] == cylinder:\n",
    "            # sum the dicts cyclinder city fuel\n",
    "            sumMpg += float(dicts['cty'])\n",
    "            # increment the counter\n",
    "            cylinderCount += 1\n",
    "    #compute average = sum / counter and append cylinder and average to list\n",
    "    cityMpgByCycle.append((cylinder, sumMpg / cylinderCount))\n",
    "cityMpgByCycle.sort(key=lambda x: x[0])\n",
    "cityMpgByCycle\n",
    "    "
   ]
  },
  {
   "cell_type": "code",
   "execution_count": 45,
   "metadata": {},
   "outputs": [
    {
     "data": {
      "text/plain": [
       "{'2seater', 'compact', 'midsize', 'minivan', 'pickup', 'subcompact', 'suv'}"
      ]
     },
     "execution_count": 45,
     "metadata": {},
     "output_type": "execute_result"
    }
   ],
   "source": [
    "vehicleClasses = set(d['class'] for d in mpg)\n",
    "vehicleClasses"
   ]
  },
  {
   "cell_type": "code",
   "execution_count": 46,
   "metadata": {},
   "outputs": [
    {
     "data": {
      "text/plain": [
       "[('pickup', 16.88),\n",
       " ('suv', 18.13),\n",
       " ('minivan', 22.36),\n",
       " ('2seater', 24.80),\n",
       " ('midsize', 27.29),\n",
       " ('subcompact', 28.14),\n",
       " ('compact', 28.30)]"
      ]
     },
     "execution_count": 46,
     "metadata": {},
     "output_type": "execute_result"
    }
   ],
   "source": [
    "hwyMpgByClass = []\n",
    "# for every vehicleClass in vehicleClasses\n",
    "for vehicleClass in vehicleClasses:\n",
    "    # reset sum\n",
    "    sumMpg = 0\n",
    "    # reset counter\n",
    "    vehicleCount = 0\n",
    "    # iterate over all dicts in mpg\n",
    "    for dicts in mpg:\n",
    "        # if class of dicts matches vehicleClass in vehicleClasses\n",
    "        if dicts['class'] == vehicleClass:\n",
    "            # sum the dicts highway fuel\n",
    "            sumMpg += float(dicts['hwy'])\n",
    "            # increment the counter\n",
    "            vehicleCount += 1\n",
    "    #compute average = sum / counter and append vehicleClass and average to list\n",
    "    hwyMpgByClass.append((vehicleClass, sumMpg / vehicleCount))\n",
    "hwyMpgByClass.sort(key=lambda x: x[1])\n",
    "hwyMpgByClass"
   ]
  },
  {
   "cell_type": "markdown",
   "metadata": {},
   "source": [
    "## 5. Dates and Time"
   ]
  },
  {
   "cell_type": "code",
   "execution_count": 47,
   "metadata": {},
   "outputs": [],
   "source": [
    "import datetime as dt\n",
    "import time as tm"
   ]
  },
  {
   "cell_type": "markdown",
   "metadata": {},
   "source": [
    "`time()` return the current time in seconds since January 1st, 1970"
   ]
  },
  {
   "cell_type": "code",
   "execution_count": 48,
   "metadata": {},
   "outputs": [
    {
     "data": {
      "text/plain": [
       "1533460561.94"
      ]
     },
     "execution_count": 48,
     "metadata": {},
     "output_type": "execute_result"
    }
   ],
   "source": [
    "tm.time()"
   ]
  },
  {
   "cell_type": "markdown",
   "metadata": {},
   "source": [
    "Convert timestamp to datetime"
   ]
  },
  {
   "cell_type": "code",
   "execution_count": 49,
   "metadata": {},
   "outputs": [
    {
     "data": {
      "text/plain": [
       "datetime.datetime(2018, 8, 5, 14, 16, 2, 84210)"
      ]
     },
     "execution_count": 49,
     "metadata": {},
     "output_type": "execute_result"
    }
   ],
   "source": [
    "dtnow = dt.datetime.fromtimestamp(tm.time())\n",
    "dtnow"
   ]
  },
  {
   "cell_type": "markdown",
   "metadata": {},
   "source": [
    "Different attributes of `datetime`"
   ]
  },
  {
   "cell_type": "code",
   "execution_count": 50,
   "metadata": {},
   "outputs": [
    {
     "data": {
      "text/plain": [
       "(2018, 8, 5, 14, 16, 2)"
      ]
     },
     "execution_count": 50,
     "metadata": {},
     "output_type": "execute_result"
    }
   ],
   "source": [
    "dtnow.year, dtnow.month, dtnow.day, dtnow.hour, dtnow.minute, dtnow.second"
   ]
  },
  {
   "cell_type": "markdown",
   "metadata": {},
   "source": [
    "`timedelta` is the duration expressing difference between two dates"
   ]
  },
  {
   "cell_type": "code",
   "execution_count": 51,
   "metadata": {},
   "outputs": [
    {
     "data": {
      "text/plain": [
       "datetime.timedelta(100)"
      ]
     },
     "execution_count": 51,
     "metadata": {},
     "output_type": "execute_result"
    }
   ],
   "source": [
    "# create a time difference of 100 days\n",
    "delta = dt.timedelta(days = 100)\n",
    "delta"
   ]
  },
  {
   "cell_type": "markdown",
   "metadata": {},
   "source": [
    "`date.today()` returns the current local date"
   ]
  },
  {
   "cell_type": "code",
   "execution_count": 52,
   "metadata": {},
   "outputs": [
    {
     "data": {
      "text/plain": [
       "datetime.date(2018, 8, 5)"
      ]
     },
     "execution_count": 52,
     "metadata": {},
     "output_type": "execute_result"
    }
   ],
   "source": [
    "today = dt.date.today()\n",
    "today"
   ]
  },
  {
   "cell_type": "code",
   "execution_count": 53,
   "metadata": {},
   "outputs": [
    {
     "data": {
      "text/plain": [
       "datetime.date(2018, 4, 27)"
      ]
     },
     "execution_count": 53,
     "metadata": {},
     "output_type": "execute_result"
    }
   ],
   "source": [
    "# date 100 days ago\n",
    "today - delta"
   ]
  },
  {
   "cell_type": "code",
   "execution_count": 54,
   "metadata": {},
   "outputs": [
    {
     "data": {
      "text/plain": [
       "True"
      ]
     },
     "execution_count": 54,
     "metadata": {},
     "output_type": "execute_result"
    }
   ],
   "source": [
    "# comparing dates\n",
    "today > today-delta"
   ]
  },
  {
   "cell_type": "markdown",
   "metadata": {},
   "source": [
    "## 6. Objects and map()"
   ]
  },
  {
   "cell_type": "markdown",
   "metadata": {},
   "source": [
    "Time for some Object-Oriented Python\n",
    "<br>\n",
    "Declare any class with a `class` keyword and then everything below is within that class scope."
   ]
  },
  {
   "cell_type": "code",
   "execution_count": 55,
   "metadata": {},
   "outputs": [],
   "source": [
    "class Person:\n",
    "    department = \"School of Information\"\n",
    "    \n",
    "    def set_name(self, new_name):\n",
    "        self.name = new_name\n",
    "    def set_location(self, new_location):\n",
    "        self.location = new_location"
   ]
  },
  {
   "cell_type": "code",
   "execution_count": 56,
   "metadata": {},
   "outputs": [
    {
     "name": "stdout",
     "output_type": "stream",
     "text": [
      "Maliha Sameen live in Pakistan and works in the department School of Information\n"
     ]
    }
   ],
   "source": [
    "# create an object of class\n",
    "person = Person()\n",
    "person.set_name(\"Maliha Sameen\")\n",
    "person.set_location(\"Pakistan\")\n",
    "print('{} live in {} and works in the department {}'.format(person.name, person.location, person.department))"
   ]
  },
  {
   "cell_type": "markdown",
   "metadata": {},
   "source": [
    "`map()` is one of the basics in functional programming in python. Functional programming is a programming paradigm in which you declare all the parameters explicitly which could change through execution of a given function. Thus functional programming refers to as being side effect free."
   ]
  },
  {
   "cell_type": "markdown",
   "metadata": {},
   "source": [
    "Here's an example of mapping the min function between two lists."
   ]
  },
  {
   "cell_type": "code",
   "execution_count": 57,
   "metadata": {},
   "outputs": [
    {
     "data": {
      "text/plain": [
       "<map at 0x2380c6c62e8>"
      ]
     },
     "execution_count": 57,
     "metadata": {},
     "output_type": "execute_result"
    }
   ],
   "source": [
    "store1 = [10.00, 11.10, 12.34, 2.34]\n",
    "store2 = [9.00, 11.60, 12.34, 2.01]\n",
    "cheapest = map(min, store1, store2)\n",
    "cheapest"
   ]
  },
  {
   "cell_type": "code",
   "execution_count": 58,
   "metadata": {
    "scrolled": true
   },
   "outputs": [
    {
     "name": "stdout",
     "output_type": "stream",
     "text": [
      "9.0\n",
      "11.1\n",
      "12.34\n",
      "2.01\n"
     ]
    }
   ],
   "source": [
    "for item in cheapest:\n",
    "    print(item)"
   ]
  },
  {
   "cell_type": "markdown",
   "metadata": {},
   "source": [
    "**Exercise:**\n",
    "Here is a list of faculty teaching this MOOC. Can you write a function and apply it using map() to get a list of all faculty titles and last names (e.g. ['Dr. Brooks', 'Dr. Collins-Thompson', …]) ?"
   ]
  },
  {
   "cell_type": "code",
   "execution_count": 59,
   "metadata": {},
   "outputs": [
    {
     "data": {
      "text/plain": [
       "['Dr. Brooks', 'Dr. Collins-Thompson', 'Dr. Vydiswaran', 'Dr. Romero']"
      ]
     },
     "execution_count": 59,
     "metadata": {},
     "output_type": "execute_result"
    }
   ],
   "source": [
    "people = ['Dr. Christopher Brooks', 'Dr. Kevyn Collins-Thompson', 'Dr. VG Vinod Vydiswaran', 'Dr. Daniel Romero']\n",
    "\n",
    "def split_title_and_name(person):\n",
    "    return person.split()[0] + \" \" + person.split()[-1]\n",
    "\n",
    "list(map(split_title_and_name, people))"
   ]
  },
  {
   "cell_type": "markdown",
   "metadata": {},
   "source": [
    "## 7. Lambda and List Comprehensions"
   ]
  },
  {
   "cell_type": "markdown",
   "metadata": {},
   "source": [
    "Lambdas are anonymous functions that are easy and short lived and it's easier to write out the function in one line than creating a seperate named function but lamdas are limited because only one expression can be written and it shouldn't contain complex logic."
   ]
  },
  {
   "cell_type": "code",
   "execution_count": 60,
   "metadata": {},
   "outputs": [
    {
     "data": {
      "text/plain": [
       "3"
      ]
     },
     "execution_count": 60,
     "metadata": {},
     "output_type": "execute_result"
    }
   ],
   "source": [
    "#create a lambda taking three parameters and add first two\n",
    "add_function = lambda a, b, c : a + b\n",
    "add_function(1, 2, 3)"
   ]
  },
  {
   "cell_type": "markdown",
   "metadata": {},
   "source": [
    "**Exercise:**\n",
    "Use lambda to get titles and lastnames."
   ]
  },
  {
   "cell_type": "code",
   "execution_count": 61,
   "metadata": {
    "scrolled": true
   },
   "outputs": [
    {
     "name": "stdout",
     "output_type": "stream",
     "text": [
      "True\n",
      "True\n",
      "True\n",
      "True\n"
     ]
    },
    {
     "data": {
      "text/plain": [
       "True"
      ]
     },
     "execution_count": 61,
     "metadata": {},
     "output_type": "execute_result"
    }
   ],
   "source": [
    "# list of people\n",
    "people = ['Dr. Christopher Brooks', 'Dr. Kevyn Collins-Thompson',\n",
    "          'Dr. VG Vinod Vydiswaran', 'Dr. Daniel Romero']\n",
    "\n",
    "def split_title_and_name(person):\n",
    "    return person.split()[0] + ' ' + person.split()[-1]\n",
    "\n",
    "# option 1\n",
    "for person in people:\n",
    "    print(split_title_and_name(person) == (lambda x: x.split()[0] \n",
    "          + ' ' + x.split()[-1])(person))\n",
    "\n",
    "# option 2\n",
    "list(map(split_title_and_name, people)) == list(map(lambda \n",
    "    x: x.split()[0] + ' ' + x.split()[-1], people))"
   ]
  },
  {
   "cell_type": "markdown",
   "metadata": {},
   "source": [
    "Just like lambdas, list comprehensions are also a compact way and is much faster."
   ]
  },
  {
   "cell_type": "markdown",
   "metadata": {},
   "source": [
    "Here is an example to display a list of even numbers in range(0, 1000)"
   ]
  },
  {
   "cell_type": "code",
   "execution_count": 62,
   "metadata": {},
   "outputs": [
    {
     "data": {
      "text/plain": [
       "[0,\n",
       " 2,\n",
       " 4,\n",
       " 6,\n",
       " 8,\n",
       " 10,\n",
       " 12,\n",
       " 14,\n",
       " 16,\n",
       " 18,\n",
       " 20,\n",
       " 22,\n",
       " 24,\n",
       " 26,\n",
       " 28,\n",
       " 30,\n",
       " 32,\n",
       " 34,\n",
       " 36,\n",
       " 38,\n",
       " 40,\n",
       " 42,\n",
       " 44,\n",
       " 46,\n",
       " 48,\n",
       " 50,\n",
       " 52,\n",
       " 54,\n",
       " 56,\n",
       " 58,\n",
       " 60,\n",
       " 62,\n",
       " 64,\n",
       " 66,\n",
       " 68,\n",
       " 70,\n",
       " 72,\n",
       " 74,\n",
       " 76,\n",
       " 78,\n",
       " 80,\n",
       " 82,\n",
       " 84,\n",
       " 86,\n",
       " 88,\n",
       " 90,\n",
       " 92,\n",
       " 94,\n",
       " 96,\n",
       " 98,\n",
       " 100,\n",
       " 102,\n",
       " 104,\n",
       " 106,\n",
       " 108,\n",
       " 110,\n",
       " 112,\n",
       " 114,\n",
       " 116,\n",
       " 118,\n",
       " 120,\n",
       " 122,\n",
       " 124,\n",
       " 126,\n",
       " 128,\n",
       " 130,\n",
       " 132,\n",
       " 134,\n",
       " 136,\n",
       " 138,\n",
       " 140,\n",
       " 142,\n",
       " 144,\n",
       " 146,\n",
       " 148,\n",
       " 150,\n",
       " 152,\n",
       " 154,\n",
       " 156,\n",
       " 158,\n",
       " 160,\n",
       " 162,\n",
       " 164,\n",
       " 166,\n",
       " 168,\n",
       " 170,\n",
       " 172,\n",
       " 174,\n",
       " 176,\n",
       " 178,\n",
       " 180,\n",
       " 182,\n",
       " 184,\n",
       " 186,\n",
       " 188,\n",
       " 190,\n",
       " 192,\n",
       " 194,\n",
       " 196,\n",
       " 198,\n",
       " 200,\n",
       " 202,\n",
       " 204,\n",
       " 206,\n",
       " 208,\n",
       " 210,\n",
       " 212,\n",
       " 214,\n",
       " 216,\n",
       " 218,\n",
       " 220,\n",
       " 222,\n",
       " 224,\n",
       " 226,\n",
       " 228,\n",
       " 230,\n",
       " 232,\n",
       " 234,\n",
       " 236,\n",
       " 238,\n",
       " 240,\n",
       " 242,\n",
       " 244,\n",
       " 246,\n",
       " 248,\n",
       " 250,\n",
       " 252,\n",
       " 254,\n",
       " 256,\n",
       " 258,\n",
       " 260,\n",
       " 262,\n",
       " 264,\n",
       " 266,\n",
       " 268,\n",
       " 270,\n",
       " 272,\n",
       " 274,\n",
       " 276,\n",
       " 278,\n",
       " 280,\n",
       " 282,\n",
       " 284,\n",
       " 286,\n",
       " 288,\n",
       " 290,\n",
       " 292,\n",
       " 294,\n",
       " 296,\n",
       " 298,\n",
       " 300,\n",
       " 302,\n",
       " 304,\n",
       " 306,\n",
       " 308,\n",
       " 310,\n",
       " 312,\n",
       " 314,\n",
       " 316,\n",
       " 318,\n",
       " 320,\n",
       " 322,\n",
       " 324,\n",
       " 326,\n",
       " 328,\n",
       " 330,\n",
       " 332,\n",
       " 334,\n",
       " 336,\n",
       " 338,\n",
       " 340,\n",
       " 342,\n",
       " 344,\n",
       " 346,\n",
       " 348,\n",
       " 350,\n",
       " 352,\n",
       " 354,\n",
       " 356,\n",
       " 358,\n",
       " 360,\n",
       " 362,\n",
       " 364,\n",
       " 366,\n",
       " 368,\n",
       " 370,\n",
       " 372,\n",
       " 374,\n",
       " 376,\n",
       " 378,\n",
       " 380,\n",
       " 382,\n",
       " 384,\n",
       " 386,\n",
       " 388,\n",
       " 390,\n",
       " 392,\n",
       " 394,\n",
       " 396,\n",
       " 398,\n",
       " 400,\n",
       " 402,\n",
       " 404,\n",
       " 406,\n",
       " 408,\n",
       " 410,\n",
       " 412,\n",
       " 414,\n",
       " 416,\n",
       " 418,\n",
       " 420,\n",
       " 422,\n",
       " 424,\n",
       " 426,\n",
       " 428,\n",
       " 430,\n",
       " 432,\n",
       " 434,\n",
       " 436,\n",
       " 438,\n",
       " 440,\n",
       " 442,\n",
       " 444,\n",
       " 446,\n",
       " 448,\n",
       " 450,\n",
       " 452,\n",
       " 454,\n",
       " 456,\n",
       " 458,\n",
       " 460,\n",
       " 462,\n",
       " 464,\n",
       " 466,\n",
       " 468,\n",
       " 470,\n",
       " 472,\n",
       " 474,\n",
       " 476,\n",
       " 478,\n",
       " 480,\n",
       " 482,\n",
       " 484,\n",
       " 486,\n",
       " 488,\n",
       " 490,\n",
       " 492,\n",
       " 494,\n",
       " 496,\n",
       " 498,\n",
       " 500,\n",
       " 502,\n",
       " 504,\n",
       " 506,\n",
       " 508,\n",
       " 510,\n",
       " 512,\n",
       " 514,\n",
       " 516,\n",
       " 518,\n",
       " 520,\n",
       " 522,\n",
       " 524,\n",
       " 526,\n",
       " 528,\n",
       " 530,\n",
       " 532,\n",
       " 534,\n",
       " 536,\n",
       " 538,\n",
       " 540,\n",
       " 542,\n",
       " 544,\n",
       " 546,\n",
       " 548,\n",
       " 550,\n",
       " 552,\n",
       " 554,\n",
       " 556,\n",
       " 558,\n",
       " 560,\n",
       " 562,\n",
       " 564,\n",
       " 566,\n",
       " 568,\n",
       " 570,\n",
       " 572,\n",
       " 574,\n",
       " 576,\n",
       " 578,\n",
       " 580,\n",
       " 582,\n",
       " 584,\n",
       " 586,\n",
       " 588,\n",
       " 590,\n",
       " 592,\n",
       " 594,\n",
       " 596,\n",
       " 598,\n",
       " 600,\n",
       " 602,\n",
       " 604,\n",
       " 606,\n",
       " 608,\n",
       " 610,\n",
       " 612,\n",
       " 614,\n",
       " 616,\n",
       " 618,\n",
       " 620,\n",
       " 622,\n",
       " 624,\n",
       " 626,\n",
       " 628,\n",
       " 630,\n",
       " 632,\n",
       " 634,\n",
       " 636,\n",
       " 638,\n",
       " 640,\n",
       " 642,\n",
       " 644,\n",
       " 646,\n",
       " 648,\n",
       " 650,\n",
       " 652,\n",
       " 654,\n",
       " 656,\n",
       " 658,\n",
       " 660,\n",
       " 662,\n",
       " 664,\n",
       " 666,\n",
       " 668,\n",
       " 670,\n",
       " 672,\n",
       " 674,\n",
       " 676,\n",
       " 678,\n",
       " 680,\n",
       " 682,\n",
       " 684,\n",
       " 686,\n",
       " 688,\n",
       " 690,\n",
       " 692,\n",
       " 694,\n",
       " 696,\n",
       " 698,\n",
       " 700,\n",
       " 702,\n",
       " 704,\n",
       " 706,\n",
       " 708,\n",
       " 710,\n",
       " 712,\n",
       " 714,\n",
       " 716,\n",
       " 718,\n",
       " 720,\n",
       " 722,\n",
       " 724,\n",
       " 726,\n",
       " 728,\n",
       " 730,\n",
       " 732,\n",
       " 734,\n",
       " 736,\n",
       " 738,\n",
       " 740,\n",
       " 742,\n",
       " 744,\n",
       " 746,\n",
       " 748,\n",
       " 750,\n",
       " 752,\n",
       " 754,\n",
       " 756,\n",
       " 758,\n",
       " 760,\n",
       " 762,\n",
       " 764,\n",
       " 766,\n",
       " 768,\n",
       " 770,\n",
       " 772,\n",
       " 774,\n",
       " 776,\n",
       " 778,\n",
       " 780,\n",
       " 782,\n",
       " 784,\n",
       " 786,\n",
       " 788,\n",
       " 790,\n",
       " 792,\n",
       " 794,\n",
       " 796,\n",
       " 798,\n",
       " 800,\n",
       " 802,\n",
       " 804,\n",
       " 806,\n",
       " 808,\n",
       " 810,\n",
       " 812,\n",
       " 814,\n",
       " 816,\n",
       " 818,\n",
       " 820,\n",
       " 822,\n",
       " 824,\n",
       " 826,\n",
       " 828,\n",
       " 830,\n",
       " 832,\n",
       " 834,\n",
       " 836,\n",
       " 838,\n",
       " 840,\n",
       " 842,\n",
       " 844,\n",
       " 846,\n",
       " 848,\n",
       " 850,\n",
       " 852,\n",
       " 854,\n",
       " 856,\n",
       " 858,\n",
       " 860,\n",
       " 862,\n",
       " 864,\n",
       " 866,\n",
       " 868,\n",
       " 870,\n",
       " 872,\n",
       " 874,\n",
       " 876,\n",
       " 878,\n",
       " 880,\n",
       " 882,\n",
       " 884,\n",
       " 886,\n",
       " 888,\n",
       " 890,\n",
       " 892,\n",
       " 894,\n",
       " 896,\n",
       " 898,\n",
       " 900,\n",
       " 902,\n",
       " 904,\n",
       " 906,\n",
       " 908,\n",
       " 910,\n",
       " 912,\n",
       " 914,\n",
       " 916,\n",
       " 918,\n",
       " 920,\n",
       " 922,\n",
       " 924,\n",
       " 926,\n",
       " 928,\n",
       " 930,\n",
       " 932,\n",
       " 934,\n",
       " 936,\n",
       " 938,\n",
       " 940,\n",
       " 942,\n",
       " 944,\n",
       " 946,\n",
       " 948,\n",
       " 950,\n",
       " 952,\n",
       " 954,\n",
       " 956,\n",
       " 958,\n",
       " 960,\n",
       " 962,\n",
       " 964,\n",
       " 966,\n",
       " 968,\n",
       " 970,\n",
       " 972,\n",
       " 974,\n",
       " 976,\n",
       " 978,\n",
       " 980,\n",
       " 982,\n",
       " 984,\n",
       " 986,\n",
       " 988,\n",
       " 990,\n",
       " 992,\n",
       " 994,\n",
       " 996,\n",
       " 998]"
      ]
     },
     "execution_count": 62,
     "metadata": {},
     "output_type": "execute_result"
    }
   ],
   "source": [
    "even_numbers_list = []\n",
    "for number in range(0, 1000):\n",
    "    if number % 2 == 0:\n",
    "        even_numbers_list.append(number)\n",
    "even_numbers_list"
   ]
  },
  {
   "cell_type": "code",
   "execution_count": 63,
   "metadata": {},
   "outputs": [
    {
     "data": {
      "text/plain": [
       "[0,\n",
       " 2,\n",
       " 4,\n",
       " 6,\n",
       " 8,\n",
       " 10,\n",
       " 12,\n",
       " 14,\n",
       " 16,\n",
       " 18,\n",
       " 20,\n",
       " 22,\n",
       " 24,\n",
       " 26,\n",
       " 28,\n",
       " 30,\n",
       " 32,\n",
       " 34,\n",
       " 36,\n",
       " 38,\n",
       " 40,\n",
       " 42,\n",
       " 44,\n",
       " 46,\n",
       " 48,\n",
       " 50,\n",
       " 52,\n",
       " 54,\n",
       " 56,\n",
       " 58,\n",
       " 60,\n",
       " 62,\n",
       " 64,\n",
       " 66,\n",
       " 68,\n",
       " 70,\n",
       " 72,\n",
       " 74,\n",
       " 76,\n",
       " 78,\n",
       " 80,\n",
       " 82,\n",
       " 84,\n",
       " 86,\n",
       " 88,\n",
       " 90,\n",
       " 92,\n",
       " 94,\n",
       " 96,\n",
       " 98,\n",
       " 100,\n",
       " 102,\n",
       " 104,\n",
       " 106,\n",
       " 108,\n",
       " 110,\n",
       " 112,\n",
       " 114,\n",
       " 116,\n",
       " 118,\n",
       " 120,\n",
       " 122,\n",
       " 124,\n",
       " 126,\n",
       " 128,\n",
       " 130,\n",
       " 132,\n",
       " 134,\n",
       " 136,\n",
       " 138,\n",
       " 140,\n",
       " 142,\n",
       " 144,\n",
       " 146,\n",
       " 148,\n",
       " 150,\n",
       " 152,\n",
       " 154,\n",
       " 156,\n",
       " 158,\n",
       " 160,\n",
       " 162,\n",
       " 164,\n",
       " 166,\n",
       " 168,\n",
       " 170,\n",
       " 172,\n",
       " 174,\n",
       " 176,\n",
       " 178,\n",
       " 180,\n",
       " 182,\n",
       " 184,\n",
       " 186,\n",
       " 188,\n",
       " 190,\n",
       " 192,\n",
       " 194,\n",
       " 196,\n",
       " 198,\n",
       " 200,\n",
       " 202,\n",
       " 204,\n",
       " 206,\n",
       " 208,\n",
       " 210,\n",
       " 212,\n",
       " 214,\n",
       " 216,\n",
       " 218,\n",
       " 220,\n",
       " 222,\n",
       " 224,\n",
       " 226,\n",
       " 228,\n",
       " 230,\n",
       " 232,\n",
       " 234,\n",
       " 236,\n",
       " 238,\n",
       " 240,\n",
       " 242,\n",
       " 244,\n",
       " 246,\n",
       " 248,\n",
       " 250,\n",
       " 252,\n",
       " 254,\n",
       " 256,\n",
       " 258,\n",
       " 260,\n",
       " 262,\n",
       " 264,\n",
       " 266,\n",
       " 268,\n",
       " 270,\n",
       " 272,\n",
       " 274,\n",
       " 276,\n",
       " 278,\n",
       " 280,\n",
       " 282,\n",
       " 284,\n",
       " 286,\n",
       " 288,\n",
       " 290,\n",
       " 292,\n",
       " 294,\n",
       " 296,\n",
       " 298,\n",
       " 300,\n",
       " 302,\n",
       " 304,\n",
       " 306,\n",
       " 308,\n",
       " 310,\n",
       " 312,\n",
       " 314,\n",
       " 316,\n",
       " 318,\n",
       " 320,\n",
       " 322,\n",
       " 324,\n",
       " 326,\n",
       " 328,\n",
       " 330,\n",
       " 332,\n",
       " 334,\n",
       " 336,\n",
       " 338,\n",
       " 340,\n",
       " 342,\n",
       " 344,\n",
       " 346,\n",
       " 348,\n",
       " 350,\n",
       " 352,\n",
       " 354,\n",
       " 356,\n",
       " 358,\n",
       " 360,\n",
       " 362,\n",
       " 364,\n",
       " 366,\n",
       " 368,\n",
       " 370,\n",
       " 372,\n",
       " 374,\n",
       " 376,\n",
       " 378,\n",
       " 380,\n",
       " 382,\n",
       " 384,\n",
       " 386,\n",
       " 388,\n",
       " 390,\n",
       " 392,\n",
       " 394,\n",
       " 396,\n",
       " 398,\n",
       " 400,\n",
       " 402,\n",
       " 404,\n",
       " 406,\n",
       " 408,\n",
       " 410,\n",
       " 412,\n",
       " 414,\n",
       " 416,\n",
       " 418,\n",
       " 420,\n",
       " 422,\n",
       " 424,\n",
       " 426,\n",
       " 428,\n",
       " 430,\n",
       " 432,\n",
       " 434,\n",
       " 436,\n",
       " 438,\n",
       " 440,\n",
       " 442,\n",
       " 444,\n",
       " 446,\n",
       " 448,\n",
       " 450,\n",
       " 452,\n",
       " 454,\n",
       " 456,\n",
       " 458,\n",
       " 460,\n",
       " 462,\n",
       " 464,\n",
       " 466,\n",
       " 468,\n",
       " 470,\n",
       " 472,\n",
       " 474,\n",
       " 476,\n",
       " 478,\n",
       " 480,\n",
       " 482,\n",
       " 484,\n",
       " 486,\n",
       " 488,\n",
       " 490,\n",
       " 492,\n",
       " 494,\n",
       " 496,\n",
       " 498,\n",
       " 500,\n",
       " 502,\n",
       " 504,\n",
       " 506,\n",
       " 508,\n",
       " 510,\n",
       " 512,\n",
       " 514,\n",
       " 516,\n",
       " 518,\n",
       " 520,\n",
       " 522,\n",
       " 524,\n",
       " 526,\n",
       " 528,\n",
       " 530,\n",
       " 532,\n",
       " 534,\n",
       " 536,\n",
       " 538,\n",
       " 540,\n",
       " 542,\n",
       " 544,\n",
       " 546,\n",
       " 548,\n",
       " 550,\n",
       " 552,\n",
       " 554,\n",
       " 556,\n",
       " 558,\n",
       " 560,\n",
       " 562,\n",
       " 564,\n",
       " 566,\n",
       " 568,\n",
       " 570,\n",
       " 572,\n",
       " 574,\n",
       " 576,\n",
       " 578,\n",
       " 580,\n",
       " 582,\n",
       " 584,\n",
       " 586,\n",
       " 588,\n",
       " 590,\n",
       " 592,\n",
       " 594,\n",
       " 596,\n",
       " 598,\n",
       " 600,\n",
       " 602,\n",
       " 604,\n",
       " 606,\n",
       " 608,\n",
       " 610,\n",
       " 612,\n",
       " 614,\n",
       " 616,\n",
       " 618,\n",
       " 620,\n",
       " 622,\n",
       " 624,\n",
       " 626,\n",
       " 628,\n",
       " 630,\n",
       " 632,\n",
       " 634,\n",
       " 636,\n",
       " 638,\n",
       " 640,\n",
       " 642,\n",
       " 644,\n",
       " 646,\n",
       " 648,\n",
       " 650,\n",
       " 652,\n",
       " 654,\n",
       " 656,\n",
       " 658,\n",
       " 660,\n",
       " 662,\n",
       " 664,\n",
       " 666,\n",
       " 668,\n",
       " 670,\n",
       " 672,\n",
       " 674,\n",
       " 676,\n",
       " 678,\n",
       " 680,\n",
       " 682,\n",
       " 684,\n",
       " 686,\n",
       " 688,\n",
       " 690,\n",
       " 692,\n",
       " 694,\n",
       " 696,\n",
       " 698,\n",
       " 700,\n",
       " 702,\n",
       " 704,\n",
       " 706,\n",
       " 708,\n",
       " 710,\n",
       " 712,\n",
       " 714,\n",
       " 716,\n",
       " 718,\n",
       " 720,\n",
       " 722,\n",
       " 724,\n",
       " 726,\n",
       " 728,\n",
       " 730,\n",
       " 732,\n",
       " 734,\n",
       " 736,\n",
       " 738,\n",
       " 740,\n",
       " 742,\n",
       " 744,\n",
       " 746,\n",
       " 748,\n",
       " 750,\n",
       " 752,\n",
       " 754,\n",
       " 756,\n",
       " 758,\n",
       " 760,\n",
       " 762,\n",
       " 764,\n",
       " 766,\n",
       " 768,\n",
       " 770,\n",
       " 772,\n",
       " 774,\n",
       " 776,\n",
       " 778,\n",
       " 780,\n",
       " 782,\n",
       " 784,\n",
       " 786,\n",
       " 788,\n",
       " 790,\n",
       " 792,\n",
       " 794,\n",
       " 796,\n",
       " 798,\n",
       " 800,\n",
       " 802,\n",
       " 804,\n",
       " 806,\n",
       " 808,\n",
       " 810,\n",
       " 812,\n",
       " 814,\n",
       " 816,\n",
       " 818,\n",
       " 820,\n",
       " 822,\n",
       " 824,\n",
       " 826,\n",
       " 828,\n",
       " 830,\n",
       " 832,\n",
       " 834,\n",
       " 836,\n",
       " 838,\n",
       " 840,\n",
       " 842,\n",
       " 844,\n",
       " 846,\n",
       " 848,\n",
       " 850,\n",
       " 852,\n",
       " 854,\n",
       " 856,\n",
       " 858,\n",
       " 860,\n",
       " 862,\n",
       " 864,\n",
       " 866,\n",
       " 868,\n",
       " 870,\n",
       " 872,\n",
       " 874,\n",
       " 876,\n",
       " 878,\n",
       " 880,\n",
       " 882,\n",
       " 884,\n",
       " 886,\n",
       " 888,\n",
       " 890,\n",
       " 892,\n",
       " 894,\n",
       " 896,\n",
       " 898,\n",
       " 900,\n",
       " 902,\n",
       " 904,\n",
       " 906,\n",
       " 908,\n",
       " 910,\n",
       " 912,\n",
       " 914,\n",
       " 916,\n",
       " 918,\n",
       " 920,\n",
       " 922,\n",
       " 924,\n",
       " 926,\n",
       " 928,\n",
       " 930,\n",
       " 932,\n",
       " 934,\n",
       " 936,\n",
       " 938,\n",
       " 940,\n",
       " 942,\n",
       " 944,\n",
       " 946,\n",
       " 948,\n",
       " 950,\n",
       " 952,\n",
       " 954,\n",
       " 956,\n",
       " 958,\n",
       " 960,\n",
       " 962,\n",
       " 964,\n",
       " 966,\n",
       " 968,\n",
       " 970,\n",
       " 972,\n",
       " 974,\n",
       " 976,\n",
       " 978,\n",
       " 980,\n",
       " 982,\n",
       " 984,\n",
       " 986,\n",
       " 988,\n",
       " 990,\n",
       " 992,\n",
       " 994,\n",
       " 996,\n",
       " 998]"
      ]
     },
     "execution_count": 63,
     "metadata": {},
     "output_type": "execute_result"
    }
   ],
   "source": [
    "# now doing same thing with list comprehension\n",
    "even_numbers_list = [number for number in range(0, 1000) if number % 2 == 0]\n",
    "even_numbers_list"
   ]
  },
  {
   "cell_type": "markdown",
   "metadata": {},
   "source": [
    "**Exercise:**\n",
    "Convert a function into a list comprehension."
   ]
  },
  {
   "cell_type": "code",
   "execution_count": 64,
   "metadata": {},
   "outputs": [
    {
     "data": {
      "text/plain": [
       "True"
      ]
     },
     "execution_count": 64,
     "metadata": {},
     "output_type": "execute_result"
    }
   ],
   "source": [
    "def times_tables():\n",
    "    lst = []\n",
    "    for i in range(10):\n",
    "        for j in range (10):\n",
    "            lst.append(i*j)\n",
    "    return lst\n",
    "\n",
    "times_tables() == [i*j for i in range (10) for j in range(10)]"
   ]
  },
  {
   "cell_type": "markdown",
   "metadata": {},
   "source": [
    "## 8. NumPy Library:"
   ]
  },
  {
   "cell_type": "code",
   "execution_count": 65,
   "metadata": {},
   "outputs": [],
   "source": [
    "import numpy as np"
   ]
  },
  {
   "cell_type": "markdown",
   "metadata": {},
   "source": [
    "### Creating an Arrays:\n",
    "Create a list and then convert into array."
   ]
  },
  {
   "cell_type": "code",
   "execution_count": 66,
   "metadata": {},
   "outputs": [
    {
     "data": {
      "text/plain": [
       "array([1, 2, 3])"
      ]
     },
     "execution_count": 66,
     "metadata": {},
     "output_type": "execute_result"
    }
   ],
   "source": [
    "mylist = [1, 2, 3]\n",
    "np.array(mylist)"
   ]
  },
  {
   "cell_type": "markdown",
   "metadata": {},
   "source": [
    "We can also pass a list directly to numpy array."
   ]
  },
  {
   "cell_type": "code",
   "execution_count": 67,
   "metadata": {},
   "outputs": [
    {
     "data": {
      "text/plain": [
       "array([1, 2, 3])"
      ]
     },
     "execution_count": 67,
     "metadata": {},
     "output_type": "execute_result"
    }
   ],
   "source": [
    "np.array([1, 2, 3])"
   ]
  },
  {
   "cell_type": "markdown",
   "metadata": {},
   "source": [
    "We can pass list of lists to create multidimensional arrays"
   ]
  },
  {
   "cell_type": "code",
   "execution_count": 68,
   "metadata": {},
   "outputs": [
    {
     "data": {
      "text/plain": [
       "array([[1, 2, 3],\n",
       "       [4, 5, 6]])"
      ]
     },
     "execution_count": 68,
     "metadata": {},
     "output_type": "execute_result"
    }
   ],
   "source": [
    "m = np.array([[1,2,3], [4,5,6]])\n",
    "m"
   ]
  },
  {
   "cell_type": "markdown",
   "metadata": {},
   "source": [
    "`shape` attribute is used to check dimensions i.e. (rows, columns)."
   ]
  },
  {
   "cell_type": "code",
   "execution_count": 69,
   "metadata": {},
   "outputs": [
    {
     "data": {
      "text/plain": [
       "(2, 3)"
      ]
     },
     "execution_count": 69,
     "metadata": {},
     "output_type": "execute_result"
    }
   ],
   "source": [
    "m.shape"
   ]
  },
  {
   "cell_type": "markdown",
   "metadata": {},
   "source": [
    "`np.arange()` returns evenly spaced values between an interval. "
   ]
  },
  {
   "cell_type": "code",
   "execution_count": 70,
   "metadata": {},
   "outputs": [
    {
     "data": {
      "text/plain": [
       "array([ 0,  2,  4,  6,  8, 10, 12, 14, 16, 18, 20, 22, 24, 26, 28])"
      ]
     },
     "execution_count": 70,
     "metadata": {},
     "output_type": "execute_result"
    }
   ],
   "source": [
    "# np.arange(a, b, c) starts from a till b with step size of c\n",
    "n = np.arange(0, 30, 2)\n",
    "n"
   ]
  },
  {
   "cell_type": "markdown",
   "metadata": {},
   "source": [
    "`reshape(a, b)` converts a list to matrix with a rows and b columns without modifying the current list."
   ]
  },
  {
   "cell_type": "code",
   "execution_count": 71,
   "metadata": {},
   "outputs": [
    {
     "data": {
      "text/plain": [
       "array([[ 0,  2,  4,  6,  8],\n",
       "       [10, 12, 14, 16, 18],\n",
       "       [20, 22, 24, 26, 28]])"
      ]
     },
     "execution_count": 71,
     "metadata": {},
     "output_type": "execute_result"
    }
   ],
   "source": [
    "n.reshape(3, 5)"
   ]
  },
  {
   "cell_type": "markdown",
   "metadata": {},
   "source": [
    "`np.linspace()` is similar to `np.arange()` except for one thing that we provide the number of elements we want between a specified interval and it splits according to the number of elements we want."
   ]
  },
  {
   "cell_type": "code",
   "execution_count": 72,
   "metadata": {},
   "outputs": [
    {
     "data": {
      "text/plain": [
       "array([0. , 0.5, 1. , 1.5, 2. , 2.5, 3. , 3.5, 4. ])"
      ]
     },
     "execution_count": 72,
     "metadata": {},
     "output_type": "execute_result"
    }
   ],
   "source": [
    "# np.linspace(a, b, c) returns c evenly spaced values between a and b inclusive.\n",
    "o = np.linspace(0, 4, 9)\n",
    "o"
   ]
  },
  {
   "cell_type": "markdown",
   "metadata": {},
   "source": [
    "`resize()` is used to change the dimensions inplace with modifying current list."
   ]
  },
  {
   "cell_type": "code",
   "execution_count": 73,
   "metadata": {},
   "outputs": [
    {
     "data": {
      "text/plain": [
       "array([[0. , 0.5, 1. ],\n",
       "       [1.5, 2. , 2.5],\n",
       "       [3. , 3.5, 4. ]])"
      ]
     },
     "execution_count": 73,
     "metadata": {},
     "output_type": "execute_result"
    }
   ],
   "source": [
    "o.resize(3,3) #resize list to 3x3 matrix \n",
    "o"
   ]
  },
  {
   "cell_type": "markdown",
   "metadata": {},
   "source": [
    "`ones()` returns an array with given shape and type filled with ones"
   ]
  },
  {
   "cell_type": "code",
   "execution_count": 74,
   "metadata": {},
   "outputs": [
    {
     "data": {
      "text/plain": [
       "array([[1., 1., 1.],\n",
       "       [1., 1., 1.]])"
      ]
     },
     "execution_count": 74,
     "metadata": {},
     "output_type": "execute_result"
    }
   ],
   "source": [
    "np.ones((2,3))"
   ]
  },
  {
   "cell_type": "markdown",
   "metadata": {},
   "source": [
    "`zeros()` returns an array with given shape and type filled with zeros."
   ]
  },
  {
   "cell_type": "code",
   "execution_count": 75,
   "metadata": {},
   "outputs": [
    {
     "data": {
      "text/plain": [
       "array([[0., 0.],\n",
       "       [0., 0.],\n",
       "       [0., 0.]])"
      ]
     },
     "execution_count": 75,
     "metadata": {},
     "output_type": "execute_result"
    }
   ],
   "source": [
    "np.zeros((3,2))"
   ]
  },
  {
   "cell_type": "markdown",
   "metadata": {},
   "source": [
    "`eye(n)` creates an identity matrix of n dimensions."
   ]
  },
  {
   "cell_type": "code",
   "execution_count": 76,
   "metadata": {},
   "outputs": [
    {
     "data": {
      "text/plain": [
       "array([[1., 0., 0., 0.],\n",
       "       [0., 1., 0., 0.],\n",
       "       [0., 0., 1., 0.],\n",
       "       [0., 0., 0., 1.]])"
      ]
     },
     "execution_count": 76,
     "metadata": {},
     "output_type": "execute_result"
    }
   ],
   "source": [
    "np.eye(4)"
   ]
  },
  {
   "cell_type": "markdown",
   "metadata": {},
   "source": [
    "`diag()` extracts a diagonal or construct a diagonal array"
   ]
  },
  {
   "cell_type": "code",
   "execution_count": 77,
   "metadata": {},
   "outputs": [
    {
     "data": {
      "text/plain": [
       "array([[4, 0, 0],\n",
       "       [0, 5, 0],\n",
       "       [0, 0, 6]])"
      ]
     },
     "execution_count": 77,
     "metadata": {},
     "output_type": "execute_result"
    }
   ],
   "source": [
    "y = [4,5,6]\n",
    "np.diag(y)"
   ]
  },
  {
   "cell_type": "code",
   "execution_count": 78,
   "metadata": {},
   "outputs": [
    {
     "data": {
      "text/plain": [
       "array([1, 2, 3, 1, 2, 3, 1, 2, 3])"
      ]
     },
     "execution_count": 78,
     "metadata": {},
     "output_type": "execute_result"
    }
   ],
   "source": [
    "np.array([1, 2, 3] * 3)"
   ]
  },
  {
   "cell_type": "code",
   "execution_count": 79,
   "metadata": {},
   "outputs": [
    {
     "data": {
      "text/plain": [
       "array([1, 1, 1, 2, 2, 2, 3, 3, 3])"
      ]
     },
     "execution_count": 79,
     "metadata": {},
     "output_type": "execute_result"
    }
   ],
   "source": [
    "np.repeat([1, 2, 3], 3)"
   ]
  },
  {
   "cell_type": "markdown",
   "metadata": {},
   "source": [
    "### Combining Arrays"
   ]
  },
  {
   "cell_type": "code",
   "execution_count": 80,
   "metadata": {},
   "outputs": [
    {
     "data": {
      "text/plain": [
       "array([[1, 1, 1],\n",
       "       [1, 1, 1]])"
      ]
     },
     "execution_count": 80,
     "metadata": {},
     "output_type": "execute_result"
    }
   ],
   "source": [
    "p = np.ones([2, 3], int)\n",
    "p"
   ]
  },
  {
   "cell_type": "markdown",
   "metadata": {},
   "source": [
    "use `vstack()` to stack elements row wise"
   ]
  },
  {
   "cell_type": "code",
   "execution_count": 81,
   "metadata": {},
   "outputs": [
    {
     "data": {
      "text/plain": [
       "array([[1, 1, 1],\n",
       "       [1, 1, 1],\n",
       "       [2, 2, 2],\n",
       "       [2, 2, 2]])"
      ]
     },
     "execution_count": 81,
     "metadata": {},
     "output_type": "execute_result"
    }
   ],
   "source": [
    "np.vstack([p, 2*p])"
   ]
  },
  {
   "cell_type": "markdown",
   "metadata": {},
   "source": [
    "use `hstack()` to stack elements column wise"
   ]
  },
  {
   "cell_type": "code",
   "execution_count": 82,
   "metadata": {},
   "outputs": [
    {
     "data": {
      "text/plain": [
       "array([[1, 1, 1, 2, 2, 2],\n",
       "       [1, 1, 1, 2, 2, 2]])"
      ]
     },
     "execution_count": 82,
     "metadata": {},
     "output_type": "execute_result"
    }
   ],
   "source": [
    "np.hstack([p, 2*p])"
   ]
  },
  {
   "cell_type": "markdown",
   "metadata": {},
   "source": [
    "### Operations\n",
    "Basic operations on matrices"
   ]
  },
  {
   "cell_type": "code",
   "execution_count": 83,
   "metadata": {},
   "outputs": [],
   "source": [
    "x = np.array([1,2,3])\n",
    "y = np.array([4,5,6])"
   ]
  },
  {
   "cell_type": "code",
   "execution_count": 84,
   "metadata": {},
   "outputs": [
    {
     "name": "stdout",
     "output_type": "stream",
     "text": [
      "[5 7 9]\n",
      "[-3 -3 -3]\n",
      "[ 4 10 18]\n",
      "[0.25 0.4  0.5 ]\n",
      "[1 4 9]\n"
     ]
    }
   ],
   "source": [
    "print(x + y) # elementwise addition\n",
    "print(x - y) # elementwise subtraction\n",
    "print(x * y) # elementwise multiplication\n",
    "print(x / y) # elementwise division\n",
    "print(x ** 2) # elementwise power [1,2,3] ^ 2"
   ]
  },
  {
   "cell_type": "markdown",
   "metadata": {},
   "source": [
    "<br>\n",
    "**Dot Product:**  \n",
    "\n",
    "$ \\begin{bmatrix}x_1 \\ x_2 \\ x_3\\end{bmatrix}\n",
    "\\cdot\n",
    "\\begin{bmatrix}y_1 \\\\ y_2 \\\\ y_3\\end{bmatrix}\n",
    "= x_1 y_1 + x_2 y_2 + x_3 y_3$"
   ]
  },
  {
   "cell_type": "code",
   "execution_count": 85,
   "metadata": {},
   "outputs": [
    {
     "data": {
      "text/plain": [
       "32"
      ]
     },
     "execution_count": 85,
     "metadata": {},
     "output_type": "execute_result"
    }
   ],
   "source": [
    "x.dot(y) # dot product"
   ]
  },
  {
   "cell_type": "code",
   "execution_count": 86,
   "metadata": {},
   "outputs": [
    {
     "data": {
      "text/plain": [
       "2"
      ]
     },
     "execution_count": 86,
     "metadata": {},
     "output_type": "execute_result"
    }
   ],
   "source": [
    "z = np.array([y, y**2])\n",
    "len(z) # no. of rows of array"
   ]
  },
  {
   "cell_type": "markdown",
   "metadata": {},
   "source": [
    "**Transposing:**\n",
    "<br>\n",
    "$  A = \\begin{bmatrix}x_1 \\ x_2 \\ x_3\\end{bmatrix}\n",
    " T(A) = \\begin{bmatrix}x_1 \\\\ x_2 \\\\ x_3\\end{bmatrix}$\n",
    " <br>\n",
    "Transposing a matrix reverse its dimensions. `.T` is used to take transpose of a matrix.<br>\n",
    "The dimensions of z before transposing is (2,3)"
   ]
  },
  {
   "cell_type": "code",
   "execution_count": 87,
   "metadata": {},
   "outputs": [
    {
     "data": {
      "text/plain": [
       "(2, 3)"
      ]
     },
     "execution_count": 87,
     "metadata": {},
     "output_type": "execute_result"
    }
   ],
   "source": [
    "z.shape"
   ]
  },
  {
   "cell_type": "code",
   "execution_count": 88,
   "metadata": {},
   "outputs": [
    {
     "data": {
      "text/plain": [
       "array([[ 4, 16],\n",
       "       [ 5, 25],\n",
       "       [ 6, 36]])"
      ]
     },
     "execution_count": 88,
     "metadata": {},
     "output_type": "execute_result"
    }
   ],
   "source": [
    "# now taking transpose\n",
    "z.T"
   ]
  },
  {
   "cell_type": "markdown",
   "metadata": {},
   "source": [
    "After taking transpose the rows are swapped with the columns."
   ]
  },
  {
   "cell_type": "code",
   "execution_count": 89,
   "metadata": {},
   "outputs": [
    {
     "data": {
      "text/plain": [
       "(3, 2)"
      ]
     },
     "execution_count": 89,
     "metadata": {},
     "output_type": "execute_result"
    }
   ],
   "source": [
    "z.T.shape"
   ]
  },
  {
   "cell_type": "code",
   "execution_count": 90,
   "metadata": {},
   "outputs": [
    {
     "data": {
      "text/plain": [
       "dtype('int32')"
      ]
     },
     "execution_count": 90,
     "metadata": {},
     "output_type": "execute_result"
    }
   ],
   "source": [
    "# .dtype is used to see the data type of elements in array\n",
    "z.dtype"
   ]
  },
  {
   "cell_type": "code",
   "execution_count": 91,
   "metadata": {},
   "outputs": [
    {
     "data": {
      "text/plain": [
       "dtype('float32')"
      ]
     },
     "execution_count": 91,
     "metadata": {},
     "output_type": "execute_result"
    }
   ],
   "source": [
    "# use .astype() to cast a specific datatype to array elements.\n",
    "z = z.astype('f')\n",
    "z.dtype"
   ]
  },
  {
   "cell_type": "markdown",
   "metadata": {},
   "source": [
    "### Math Functions:"
   ]
  },
  {
   "cell_type": "code",
   "execution_count": 92,
   "metadata": {},
   "outputs": [],
   "source": [
    "a = np.array([-4, -2, 1, 3, 5])"
   ]
  },
  {
   "cell_type": "code",
   "execution_count": 93,
   "metadata": {},
   "outputs": [
    {
     "data": {
      "text/plain": [
       "3"
      ]
     },
     "execution_count": 93,
     "metadata": {},
     "output_type": "execute_result"
    }
   ],
   "source": [
    "# sum of all elements in the array\n",
    "a.sum()"
   ]
  },
  {
   "cell_type": "code",
   "execution_count": 94,
   "metadata": {},
   "outputs": [
    {
     "data": {
      "text/plain": [
       "5"
      ]
     },
     "execution_count": 94,
     "metadata": {},
     "output_type": "execute_result"
    }
   ],
   "source": [
    "# max element in the array\n",
    "a.max()"
   ]
  },
  {
   "cell_type": "code",
   "execution_count": 95,
   "metadata": {},
   "outputs": [
    {
     "data": {
      "text/plain": [
       "-4"
      ]
     },
     "execution_count": 95,
     "metadata": {},
     "output_type": "execute_result"
    }
   ],
   "source": [
    "# min element in the array\n",
    "a.min()"
   ]
  },
  {
   "cell_type": "code",
   "execution_count": 96,
   "metadata": {},
   "outputs": [
    {
     "data": {
      "text/plain": [
       "0.6"
      ]
     },
     "execution_count": 96,
     "metadata": {},
     "output_type": "execute_result"
    }
   ],
   "source": [
    "# mean of elements in the array\n",
    "a.mean()"
   ]
  },
  {
   "cell_type": "code",
   "execution_count": 97,
   "metadata": {},
   "outputs": [
    {
     "data": {
      "text/plain": [
       "3.2619012860600183"
      ]
     },
     "execution_count": 97,
     "metadata": {},
     "output_type": "execute_result"
    }
   ],
   "source": [
    "# standard deviation of elements in the array\n",
    "a.std()"
   ]
  },
  {
   "cell_type": "code",
   "execution_count": 99,
   "metadata": {},
   "outputs": [
    {
     "data": {
      "text/plain": [
       "4"
      ]
     },
     "execution_count": 99,
     "metadata": {},
     "output_type": "execute_result"
    }
   ],
   "source": [
    "# returns index of max element in the array\n",
    "a.argmax()"
   ]
  },
  {
   "cell_type": "code",
   "execution_count": 98,
   "metadata": {},
   "outputs": [
    {
     "data": {
      "text/plain": [
       "0"
      ]
     },
     "execution_count": 98,
     "metadata": {},
     "output_type": "execute_result"
    }
   ],
   "source": [
    "# returns index of min element in the array\n",
    "a.argmin()"
   ]
  }
 ],
 "metadata": {
  "kernelspec": {
   "display_name": "Python 3",
   "language": "python",
   "name": "python3"
  },
  "language_info": {
   "codemirror_mode": {
    "name": "ipython",
    "version": 3
   },
   "file_extension": ".py",
   "mimetype": "text/x-python",
   "name": "python",
   "nbconvert_exporter": "python",
   "pygments_lexer": "ipython3",
   "version": "3.6.5"
  }
 },
 "nbformat": 4,
 "nbformat_minor": 2
}
